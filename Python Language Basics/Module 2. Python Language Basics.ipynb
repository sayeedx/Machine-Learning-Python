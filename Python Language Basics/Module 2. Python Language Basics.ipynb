{
 "cells": [
  {
   "cell_type": "code",
   "execution_count": 1,
   "id": "f70494b1-af43-468b-adc1-d0ce6afc2bfb",
   "metadata": {},
   "outputs": [],
   "source": [
    "import pandas\n",
    "import numpy"
   ]
  },
  {
   "cell_type": "code",
   "execution_count": 2,
   "id": "9e96d5ca-534d-4a68-b880-9d9c11066074",
   "metadata": {},
   "outputs": [],
   "source": [
    "import pandas as pd\n",
    "import numpy as np"
   ]
  },
  {
   "cell_type": "code",
   "execution_count": 5,
   "id": "9dc18df5-33b5-4944-9e12-a33c3427d17a",
   "metadata": {},
   "outputs": [
    {
     "data": {
      "text/plain": [
       "11"
      ]
     },
     "execution_count": 5,
     "metadata": {},
     "output_type": "execute_result"
    }
   ],
   "source": [
    "3+2*4"
   ]
  },
  {
   "cell_type": "code",
   "execution_count": 6,
   "id": "531f2c4a-cda5-4170-ab8d-72acbedb6622",
   "metadata": {},
   "outputs": [
    {
     "data": {
      "text/plain": [
       "1.25"
      ]
     },
     "execution_count": 6,
     "metadata": {},
     "output_type": "execute_result"
    }
   ],
   "source": [
    "(3+2)/4"
   ]
  },
  {
   "cell_type": "code",
   "execution_count": 7,
   "id": "cc62931a-64db-4e59-8800-7192493e798b",
   "metadata": {},
   "outputs": [
    {
     "data": {
      "text/plain": [
       "1"
      ]
     },
     "execution_count": 7,
     "metadata": {},
     "output_type": "execute_result"
    }
   ],
   "source": [
    "(3+2)^4"
   ]
  },
  {
   "cell_type": "code",
   "execution_count": 8,
   "id": "d677b17f-dd01-4bd5-920c-b69700ca4f82",
   "metadata": {},
   "outputs": [
    {
     "data": {
      "text/plain": [
       "1"
      ]
     },
     "execution_count": 8,
     "metadata": {},
     "output_type": "execute_result"
    }
   ],
   "source": [
    "(3+2)//4"
   ]
  },
  {
   "cell_type": "code",
   "execution_count": 10,
   "id": "79000cf9-c032-4bc1-a13c-838392170c8f",
   "metadata": {},
   "outputs": [
    {
     "data": {
      "text/plain": [
       "int"
      ]
     },
     "execution_count": 10,
     "metadata": {},
     "output_type": "execute_result"
    }
   ],
   "source": [
    "type(4//7)"
   ]
  },
  {
   "cell_type": "code",
   "execution_count": 11,
   "id": "9b00bb9e-3ef8-4332-a005-3245d8ac288d",
   "metadata": {},
   "outputs": [
    {
     "data": {
      "text/plain": [
       "float"
      ]
     },
     "execution_count": 11,
     "metadata": {},
     "output_type": "execute_result"
    }
   ],
   "source": [
    "a = 11/(-3)\n",
    "type(a)"
   ]
  },
  {
   "cell_type": "code",
   "execution_count": 12,
   "id": "93e5e896-eccd-4482-ae33-fd761046f44b",
   "metadata": {},
   "outputs": [
    {
     "data": {
      "text/plain": [
       "bool"
      ]
     },
     "execution_count": 12,
     "metadata": {},
     "output_type": "execute_result"
    }
   ],
   "source": [
    "b = True\n",
    "type(b)"
   ]
  },
  {
   "cell_type": "code",
   "execution_count": 14,
   "id": "544ed5d6-9695-40b7-a25f-d13666d753ca",
   "metadata": {},
   "outputs": [
    {
     "data": {
      "text/plain": [
       "str"
      ]
     },
     "execution_count": 14,
     "metadata": {},
     "output_type": "execute_result"
    }
   ],
   "source": [
    "id = '00223298'\n",
    "type(id)"
   ]
  },
  {
   "cell_type": "code",
   "execution_count": 15,
   "id": "49b60b7d-101d-4477-9fa7-5c1fde108e60",
   "metadata": {},
   "outputs": [],
   "source": [
    "c = '6.0'\n",
    "c = float(c)"
   ]
  },
  {
   "cell_type": "code",
   "execution_count": 16,
   "id": "a4826671-dbbc-4ff5-9bba-4845cb112bfa",
   "metadata": {},
   "outputs": [
    {
     "data": {
      "text/plain": [
       "float"
      ]
     },
     "execution_count": 16,
     "metadata": {},
     "output_type": "execute_result"
    }
   ],
   "source": [
    "type(c)"
   ]
  },
  {
   "cell_type": "code",
   "execution_count": 17,
   "id": "75626787-9bfc-40d4-82c8-7def43ea1905",
   "metadata": {},
   "outputs": [
    {
     "data": {
      "text/plain": [
       "True"
      ]
     },
     "execution_count": 17,
     "metadata": {},
     "output_type": "execute_result"
    }
   ],
   "source": [
    "d = (-6) < 78\n",
    "d"
   ]
  },
  {
   "cell_type": "code",
   "execution_count": 18,
   "id": "17a1455a-f447-481c-adf5-969f82d622dd",
   "metadata": {},
   "outputs": [],
   "source": [
    "d = float(d)"
   ]
  },
  {
   "cell_type": "code",
   "execution_count": 20,
   "id": "61ef441b-9c93-40e6-9873-4e390cde6a5c",
   "metadata": {},
   "outputs": [
    {
     "data": {
      "text/plain": [
       "float"
      ]
     },
     "execution_count": 20,
     "metadata": {},
     "output_type": "execute_result"
    }
   ],
   "source": [
    "type(d)"
   ]
  },
  {
   "cell_type": "code",
   "execution_count": 35,
   "id": "3e24b7a6-fa80-482f-8dce-73fde5d60705",
   "metadata": {},
   "outputs": [],
   "source": [
    "l = [0, \"robot\", -9, False, 77, 77, 100, \"true\"]"
   ]
  },
  {
   "cell_type": "code",
   "execution_count": 24,
   "id": "f037d4fa-9ff1-4fca-b0bc-a3facb5b277b",
   "metadata": {},
   "outputs": [
    {
     "data": {
      "text/plain": [
       "list"
      ]
     },
     "execution_count": 24,
     "metadata": {},
     "output_type": "execute_result"
    }
   ],
   "source": [
    "type(l)"
   ]
  },
  {
   "cell_type": "code",
   "execution_count": 26,
   "id": "653e4eb6-9c2b-49d5-83f3-8d21a4e948d3",
   "metadata": {},
   "outputs": [],
   "source": [
    "t = (0, \"robot\", -9, False, 77, 77, 100, \"true\")"
   ]
  },
  {
   "cell_type": "code",
   "execution_count": 27,
   "id": "69f7d659-ee4b-4c80-9915-53136a8c4226",
   "metadata": {},
   "outputs": [
    {
     "data": {
      "text/plain": [
       "tuple"
      ]
     },
     "execution_count": 27,
     "metadata": {},
     "output_type": "execute_result"
    }
   ],
   "source": [
    "type(t)"
   ]
  },
  {
   "cell_type": "code",
   "execution_count": 28,
   "id": "f3821592-bf8b-43cf-89d7-66d89ee9800b",
   "metadata": {},
   "outputs": [],
   "source": [
    "s = {0, \"robot\", -9, False, 77, 77, 100, \"true\"}"
   ]
  },
  {
   "cell_type": "code",
   "execution_count": 29,
   "id": "fc172107-b610-4244-aaef-b1ad8bf82ba4",
   "metadata": {},
   "outputs": [
    {
     "data": {
      "text/plain": [
       "set"
      ]
     },
     "execution_count": 29,
     "metadata": {},
     "output_type": "execute_result"
    }
   ],
   "source": [
    "type(s)"
   ]
  },
  {
   "cell_type": "code",
   "execution_count": 33,
   "id": "b8e12832-34cb-43ae-81ab-d634cd69c46b",
   "metadata": {},
   "outputs": [],
   "source": [
    "l[7] = 1"
   ]
  },
  {
   "cell_type": "code",
   "execution_count": 36,
   "id": "0b889949-7adf-4e84-b28a-a8f3f3dfe812",
   "metadata": {},
   "outputs": [
    {
     "data": {
      "text/plain": [
       "[0, 'robot', -9, False, 77, 77, 100, 'true']"
      ]
     },
     "execution_count": 36,
     "metadata": {},
     "output_type": "execute_result"
    }
   ],
   "source": [
    "l"
   ]
  },
  {
   "cell_type": "code",
   "execution_count": 37,
   "id": "ab569f21-ab28-4250-8cf1-2b8383accbfc",
   "metadata": {},
   "outputs": [
    {
     "data": {
      "text/plain": [
       "['diabetes', 'heart bypass']"
      ]
     },
     "execution_count": 37,
     "metadata": {},
     "output_type": "execute_result"
    }
   ],
   "source": [
    "e = ['diabetes', 'heart bypass']\n",
    "e"
   ]
  },
  {
   "cell_type": "code",
   "execution_count": 38,
   "id": "701982c0-fb7b-4ed7-9405-c171b0d5800c",
   "metadata": {},
   "outputs": [],
   "source": [
    "f = e + ['age', 'weight']"
   ]
  },
  {
   "cell_type": "code",
   "execution_count": 39,
   "id": "3fb6a630-e116-4caf-893c-6f287d97e94a",
   "metadata": {},
   "outputs": [
    {
     "data": {
      "text/plain": [
       "['diabetes', 'heart bypass', 'age', 'weight']"
      ]
     },
     "execution_count": 39,
     "metadata": {},
     "output_type": "execute_result"
    }
   ],
   "source": [
    "f"
   ]
  },
  {
   "cell_type": "code",
   "execution_count": 40,
   "id": "8ca71ebe-8f50-4649-bb08-c70e66a9f216",
   "metadata": {},
   "outputs": [
    {
     "data": {
      "text/plain": [
       "['diabetes', 'heart bypass', 'age', 'weight']"
      ]
     },
     "execution_count": 40,
     "metadata": {},
     "output_type": "execute_result"
    }
   ],
   "source": [
    "e.extend(['age', 'weight'])\n",
    "e"
   ]
  },
  {
   "cell_type": "code",
   "execution_count": 41,
   "id": "3591c672-d99a-4b83-b1ea-c353624e12b5",
   "metadata": {},
   "outputs": [
    {
     "data": {
      "text/plain": [
       "{'Australia': ['Sydney', 'Melbourne', 'Canberra'],\n",
       " 'Canada': ['Toronto', 'Montreal', 'Ottawa'],\n",
       " 'Germany': ['Berlin', 'Hamburg', 'Munich'],\n",
       " 'Japan': ['Tokyo', 'Osaka', 'Nagoya']}"
      ]
     },
     "execution_count": 41,
     "metadata": {},
     "output_type": "execute_result"
    }
   ],
   "source": [
    "cities = {'Australia' :['Sydney', 'Melbourne', 'Canberra'],\n",
    "          'Canada'    :['Toronto', 'Montreal', 'Ottawa'],\n",
    "          'Germany'   :['Berlin', 'Hamburg', 'Munich'],\n",
    "          'Japan'     :['Tokyo', 'Osaka', 'Nagoya']}\n",
    "cities"
   ]
  },
  {
   "cell_type": "code",
   "execution_count": 42,
   "id": "387cd784-853c-4c87-af4f-31e3a97edaf2",
   "metadata": {},
   "outputs": [
    {
     "data": {
      "text/plain": [
       "['Tokyo', 'Osaka', 'Nagoya']"
      ]
     },
     "execution_count": 42,
     "metadata": {},
     "output_type": "execute_result"
    }
   ],
   "source": [
    "cities['Japan']"
   ]
  },
  {
   "cell_type": "code",
   "execution_count": 43,
   "id": "d6f22505-a34f-4796-a2f4-79cbef800406",
   "metadata": {},
   "outputs": [
    {
     "data": {
      "text/plain": [
       "dict_values([['Sydney', 'Melbourne', 'Canberra'], ['Toronto', 'Montreal', 'Ottawa'], ['Berlin', 'Hamburg', 'Munich'], ['Tokyo', 'Osaka', 'Nagoya']])"
      ]
     },
     "execution_count": 43,
     "metadata": {},
     "output_type": "execute_result"
    }
   ],
   "source": [
    "cities.values()"
   ]
  },
  {
   "cell_type": "code",
   "execution_count": 44,
   "id": "fc059c5b-4c71-4b09-878d-01ab5a67b62d",
   "metadata": {},
   "outputs": [
    {
     "data": {
      "text/plain": [
       "dict_keys(['Australia', 'Canada', 'Germany', 'Japan'])"
      ]
     },
     "execution_count": 44,
     "metadata": {},
     "output_type": "execute_result"
    }
   ],
   "source": [
    "cities.keys()"
   ]
  },
  {
   "cell_type": "code",
   "execution_count": 45,
   "id": "a7afff6f-5d3e-4a84-b23a-b612e23eb31e",
   "metadata": {},
   "outputs": [
    {
     "name": "stdout",
     "output_type": "stream",
     "text": [
      "key:  Australia \n",
      "value:  ['Sydney', 'Melbourne', 'Canberra'] \n",
      "\n",
      "key:  Canada \n",
      "value:  ['Toronto', 'Montreal', 'Ottawa'] \n",
      "\n",
      "key:  Germany \n",
      "value:  ['Berlin', 'Hamburg', 'Munich'] \n",
      "\n",
      "key:  Japan \n",
      "value:  ['Tokyo', 'Osaka', 'Nagoya'] \n",
      "\n"
     ]
    }
   ],
   "source": [
    "for k in cities.keys():\n",
    "    print('key: ', k, '\\nvalue: ', cities[k], '\\n')"
   ]
  },
  {
   "cell_type": "code",
   "execution_count": 48,
   "id": "dc3c0107-a5a5-40f2-9885-5d4739dd1297",
   "metadata": {},
   "outputs": [
    {
     "name": "stdout",
     "output_type": "stream",
     "text": [
      "key:  Australia \n",
      "value:  ['Sydney', 'Melbourne', 'Canberra'] \n",
      "\n",
      "key:  Canada \n",
      "value:  ['Toronto', 'Montreal', 'Ottawa'] \n",
      "\n",
      "key:  Germany \n",
      "value:  ['Berlin', 'Hamburg', 'Munich'] \n",
      "\n",
      "key:  Japan \n",
      "value:  ['Tokyo', 'Osaka', 'Nagoya'] \n",
      "\n"
     ]
    }
   ],
   "source": [
    "for k, v in cities.items():\n",
    "    print('key: ', k, '\\nvalue: ', v, '\\n')"
   ]
  },
  {
   "cell_type": "code",
   "execution_count": 49,
   "id": "04f042a2-3f18-4709-8256-147890b503e1",
   "metadata": {},
   "outputs": [],
   "source": [
    "cities['Egypt'] = ['Cairo', 'Durban', 'Alexandria']"
   ]
  },
  {
   "cell_type": "code",
   "execution_count": 50,
   "id": "c7667563-e905-4421-af15-d98b89b5e4a6",
   "metadata": {},
   "outputs": [
    {
     "data": {
      "text/plain": [
       "{'Australia': ['Sydney', 'Melbourne', 'Canberra'],\n",
       " 'Canada': ['Toronto', 'Montreal', 'Ottawa'],\n",
       " 'Germany': ['Berlin', 'Hamburg', 'Munich'],\n",
       " 'Japan': ['Tokyo', 'Osaka', 'Nagoya'],\n",
       " 'Egypt': ['Cairo', 'Durban', 'Alexandria']}"
      ]
     },
     "execution_count": 50,
     "metadata": {},
     "output_type": "execute_result"
    }
   ],
   "source": [
    "cities"
   ]
  },
  {
   "cell_type": "code",
   "execution_count": 52,
   "id": "e400582e-1ab4-4b70-bafd-72ae5c9a901a",
   "metadata": {},
   "outputs": [],
   "source": [
    "durban_index = cities['Egypt'].index('Durban')"
   ]
  },
  {
   "cell_type": "code",
   "execution_count": 53,
   "id": "67537fa0-de3b-4dc9-9361-530381ed8a42",
   "metadata": {},
   "outputs": [],
   "source": [
    "cities['Egypt'][durban_index] = 'Giza'"
   ]
  },
  {
   "cell_type": "code",
   "execution_count": 54,
   "id": "9a1b1e7c-db7d-44ad-bb76-288a737a322f",
   "metadata": {},
   "outputs": [
    {
     "name": "stdout",
     "output_type": "stream",
     "text": [
      "['Cairo', 'Giza', 'Alexandria']\n"
     ]
    }
   ],
   "source": [
    "print(cities['Egypt'])"
   ]
  },
  {
   "cell_type": "code",
   "execution_count": 55,
   "id": "b1916f6b-8941-4a3a-b6b9-d9d031054863",
   "metadata": {},
   "outputs": [
    {
     "data": {
      "text/plain": [
       "{'Australia': ['Sydney', 'Melbourne', 'Canberra'],\n",
       " 'Canada': ['Toronto', 'Montreal', 'Ottawa'],\n",
       " 'Japan': ['Tokyo', 'Osaka', 'Nagoya'],\n",
       " 'Egypt': ['Cairo', 'Giza', 'Alexandria']}"
      ]
     },
     "execution_count": 55,
     "metadata": {},
     "output_type": "execute_result"
    }
   ],
   "source": [
    "del cities['Germany']\n",
    "cities"
   ]
  },
  {
   "cell_type": "code",
   "execution_count": 56,
   "id": "57b992ca-89e3-45a3-98b5-af87e8900bb4",
   "metadata": {},
   "outputs": [
    {
     "data": {
      "text/plain": [
       "[99, 2, 65]"
      ]
     },
     "execution_count": 56,
     "metadata": {},
     "output_type": "execute_result"
    }
   ],
   "source": [
    "arr = [99,2,65]\n",
    "arr"
   ]
  },
  {
   "cell_type": "code",
   "execution_count": 57,
   "id": "34e0e1df-60eb-4919-83e8-5ddbbc64103c",
   "metadata": {},
   "outputs": [
    {
     "data": {
      "text/plain": [
       "array([4.59511985, 0.69314718, 4.17438727])"
      ]
     },
     "execution_count": 57,
     "metadata": {},
     "output_type": "execute_result"
    }
   ],
   "source": [
    "np.log(arr)"
   ]
  },
  {
   "cell_type": "code",
   "execution_count": 58,
   "id": "2bea73c2-a72e-4d9d-8465-7ed3b0cab654",
   "metadata": {},
   "outputs": [
    {
     "data": {
      "text/plain": [
       "array([9.94987437, 1.41421356, 8.06225775])"
      ]
     },
     "execution_count": 58,
     "metadata": {},
     "output_type": "execute_result"
    }
   ],
   "source": [
    "np.sqrt(arr)"
   ]
  },
  {
   "cell_type": "code",
   "execution_count": 59,
   "id": "8d140378-b0c5-40e3-be89-00559260bc09",
   "metadata": {},
   "outputs": [
    {
     "data": {
      "text/plain": [
       "array([ 0.03982088, -0.41614684, -0.56245385])"
      ]
     },
     "execution_count": 59,
     "metadata": {},
     "output_type": "execute_result"
    }
   ],
   "source": [
    "np.cos(arr)"
   ]
  },
  {
   "cell_type": "code",
   "execution_count": 60,
   "id": "71433729-c44e-4f32-9843-6008594ad80b",
   "metadata": {},
   "outputs": [
    {
     "data": {
      "text/plain": [
       "array([ 0,  1,  2,  3,  4,  5,  6,  7,  8,  9, 10, 11, 12, 13, 14, 15, 16,\n",
       "       17, 18, 19])"
      ]
     },
     "execution_count": 60,
     "metadata": {},
     "output_type": "execute_result"
    }
   ],
   "source": [
    "num1 = np.arange(20)\n",
    "num1"
   ]
  },
  {
   "cell_type": "code",
   "execution_count": 67,
   "id": "75a2339d-0e78-4def-9074-83bbdc5cdb99",
   "metadata": {},
   "outputs": [
    {
     "data": {
      "text/plain": [
       "array([0, 1, 2, 3, 4])"
      ]
     },
     "execution_count": 67,
     "metadata": {},
     "output_type": "execute_result"
    }
   ],
   "source": [
    "num1[0:5]"
   ]
  },
  {
   "cell_type": "code",
   "execution_count": 68,
   "id": "58f8a94b-4681-4f8c-854e-2002f0b75fd8",
   "metadata": {},
   "outputs": [
    {
     "data": {
      "text/plain": [
       "array([[ 0,  1,  2,  3],\n",
       "       [ 4,  5,  6,  7],\n",
       "       [ 8,  9, 10, 11],\n",
       "       [12, 13, 14, 15],\n",
       "       [16, 17, 18, 19]])"
      ]
     },
     "execution_count": 68,
     "metadata": {},
     "output_type": "execute_result"
    }
   ],
   "source": [
    "num2 = np.arange(20).reshape(5,4)\n",
    "num2"
   ]
  },
  {
   "cell_type": "code",
   "execution_count": 110,
   "id": "809f51ed-e78f-450b-ae8f-4930c34c7c96",
   "metadata": {},
   "outputs": [
    {
     "data": {
      "text/plain": [
       "array([[12, 13, 14],\n",
       "       [16, 17, 18]])"
      ]
     },
     "execution_count": 110,
     "metadata": {},
     "output_type": "execute_result"
    }
   ],
   "source": [
    "num2[3:5,0:3]"
   ]
  },
  {
   "cell_type": "code",
   "execution_count": 103,
   "id": "c41c5a0d-faf7-42e4-9eec-cfb3dab158b2",
   "metadata": {},
   "outputs": [
    {
     "data": {
      "text/html": [
       "<div>\n",
       "<style scoped>\n",
       "    .dataframe tbody tr th:only-of-type {\n",
       "        vertical-align: middle;\n",
       "    }\n",
       "\n",
       "    .dataframe tbody tr th {\n",
       "        vertical-align: top;\n",
       "    }\n",
       "\n",
       "    .dataframe thead th {\n",
       "        text-align: right;\n",
       "    }\n",
       "</style>\n",
       "<table border=\"1\" class=\"dataframe\">\n",
       "  <thead>\n",
       "    <tr style=\"text-align: right;\">\n",
       "      <th></th>\n",
       "      <th>age</th>\n",
       "      <th>job</th>\n",
       "      <th>marital</th>\n",
       "      <th>education</th>\n",
       "      <th>default</th>\n",
       "      <th>balance</th>\n",
       "      <th>housing</th>\n",
       "      <th>loan</th>\n",
       "      <th>contact</th>\n",
       "      <th>day</th>\n",
       "      <th>month</th>\n",
       "      <th>duration</th>\n",
       "      <th>campaign</th>\n",
       "      <th>pdays</th>\n",
       "      <th>previous</th>\n",
       "      <th>poutcome</th>\n",
       "      <th>y</th>\n",
       "      <th>year</th>\n",
       "    </tr>\n",
       "  </thead>\n",
       "  <tbody>\n",
       "    <tr>\n",
       "      <th>0</th>\n",
       "      <td>30.0</td>\n",
       "      <td>unemployed</td>\n",
       "      <td>married</td>\n",
       "      <td>primary</td>\n",
       "      <td>no</td>\n",
       "      <td>1787.0</td>\n",
       "      <td>no</td>\n",
       "      <td>no</td>\n",
       "      <td>cellular</td>\n",
       "      <td>19.0</td>\n",
       "      <td>10</td>\n",
       "      <td>79.0</td>\n",
       "      <td>1.0</td>\n",
       "      <td>-1.0</td>\n",
       "      <td>0.0</td>\n",
       "      <td>unknown</td>\n",
       "      <td>no</td>\n",
       "      <td>2022</td>\n",
       "    </tr>\n",
       "    <tr>\n",
       "      <th>1</th>\n",
       "      <td>33.0</td>\n",
       "      <td>services</td>\n",
       "      <td>married</td>\n",
       "      <td>secondary</td>\n",
       "      <td>no</td>\n",
       "      <td>4789.0</td>\n",
       "      <td>yes</td>\n",
       "      <td>yes</td>\n",
       "      <td>cellular</td>\n",
       "      <td>11.0</td>\n",
       "      <td>5</td>\n",
       "      <td>220.0</td>\n",
       "      <td>1.0</td>\n",
       "      <td>339.0</td>\n",
       "      <td>4.0</td>\n",
       "      <td>failure</td>\n",
       "      <td>no</td>\n",
       "      <td>2022</td>\n",
       "    </tr>\n",
       "    <tr>\n",
       "      <th>2</th>\n",
       "      <td>35.0</td>\n",
       "      <td>management</td>\n",
       "      <td>single</td>\n",
       "      <td>tertiary</td>\n",
       "      <td>no</td>\n",
       "      <td>1350.0</td>\n",
       "      <td>yes</td>\n",
       "      <td>no</td>\n",
       "      <td>cellular</td>\n",
       "      <td>16.0</td>\n",
       "      <td>4</td>\n",
       "      <td>185.0</td>\n",
       "      <td>1.0</td>\n",
       "      <td>330.0</td>\n",
       "      <td>1.0</td>\n",
       "      <td>failure</td>\n",
       "      <td>no</td>\n",
       "      <td>2022</td>\n",
       "    </tr>\n",
       "    <tr>\n",
       "      <th>3</th>\n",
       "      <td>30.0</td>\n",
       "      <td>management</td>\n",
       "      <td>married</td>\n",
       "      <td>tertiary</td>\n",
       "      <td>no</td>\n",
       "      <td>NaN</td>\n",
       "      <td>yes</td>\n",
       "      <td>yes</td>\n",
       "      <td>NaN</td>\n",
       "      <td>3.0</td>\n",
       "      <td>6</td>\n",
       "      <td>199.0</td>\n",
       "      <td>4.0</td>\n",
       "      <td>-1.0</td>\n",
       "      <td>0.0</td>\n",
       "      <td>unknown</td>\n",
       "      <td>no</td>\n",
       "      <td>2022</td>\n",
       "    </tr>\n",
       "    <tr>\n",
       "      <th>4</th>\n",
       "      <td>59.0</td>\n",
       "      <td>blue-collar</td>\n",
       "      <td>married</td>\n",
       "      <td>secondary</td>\n",
       "      <td>no</td>\n",
       "      <td>0.0</td>\n",
       "      <td>yes</td>\n",
       "      <td>no</td>\n",
       "      <td>NaN</td>\n",
       "      <td>5.0</td>\n",
       "      <td>5</td>\n",
       "      <td>226.0</td>\n",
       "      <td>1.0</td>\n",
       "      <td>-1.0</td>\n",
       "      <td>0.0</td>\n",
       "      <td>unknown</td>\n",
       "      <td>no</td>\n",
       "      <td>2022</td>\n",
       "    </tr>\n",
       "    <tr>\n",
       "      <th>...</th>\n",
       "      <td>...</td>\n",
       "      <td>...</td>\n",
       "      <td>...</td>\n",
       "      <td>...</td>\n",
       "      <td>...</td>\n",
       "      <td>...</td>\n",
       "      <td>...</td>\n",
       "      <td>...</td>\n",
       "      <td>...</td>\n",
       "      <td>...</td>\n",
       "      <td>...</td>\n",
       "      <td>...</td>\n",
       "      <td>...</td>\n",
       "      <td>...</td>\n",
       "      <td>...</td>\n",
       "      <td>...</td>\n",
       "      <td>...</td>\n",
       "      <td>...</td>\n",
       "    </tr>\n",
       "    <tr>\n",
       "      <th>4516</th>\n",
       "      <td>33.0</td>\n",
       "      <td>services</td>\n",
       "      <td>married</td>\n",
       "      <td>secondary</td>\n",
       "      <td>no</td>\n",
       "      <td>-333.0</td>\n",
       "      <td>yes</td>\n",
       "      <td>no</td>\n",
       "      <td>cellular</td>\n",
       "      <td>30.0</td>\n",
       "      <td>7</td>\n",
       "      <td>329.0</td>\n",
       "      <td>5.0</td>\n",
       "      <td>-1.0</td>\n",
       "      <td>0.0</td>\n",
       "      <td>unknown</td>\n",
       "      <td>no</td>\n",
       "      <td>2022</td>\n",
       "    </tr>\n",
       "    <tr>\n",
       "      <th>4517</th>\n",
       "      <td>57.0</td>\n",
       "      <td>self-employed</td>\n",
       "      <td>married</td>\n",
       "      <td>tertiary</td>\n",
       "      <td>yes</td>\n",
       "      <td>-3313.0</td>\n",
       "      <td>yes</td>\n",
       "      <td>yes</td>\n",
       "      <td>NaN</td>\n",
       "      <td>9.0</td>\n",
       "      <td>5</td>\n",
       "      <td>153.0</td>\n",
       "      <td>1.0</td>\n",
       "      <td>-1.0</td>\n",
       "      <td>0.0</td>\n",
       "      <td>unknown</td>\n",
       "      <td>no</td>\n",
       "      <td>2022</td>\n",
       "    </tr>\n",
       "    <tr>\n",
       "      <th>4518</th>\n",
       "      <td>57.0</td>\n",
       "      <td>technician</td>\n",
       "      <td>married</td>\n",
       "      <td>secondary</td>\n",
       "      <td>no</td>\n",
       "      <td>295.0</td>\n",
       "      <td>no</td>\n",
       "      <td>no</td>\n",
       "      <td>cellular</td>\n",
       "      <td>19.0</td>\n",
       "      <td>8</td>\n",
       "      <td>151.0</td>\n",
       "      <td>11.0</td>\n",
       "      <td>-1.0</td>\n",
       "      <td>0.0</td>\n",
       "      <td>unknown</td>\n",
       "      <td>no</td>\n",
       "      <td>2022</td>\n",
       "    </tr>\n",
       "    <tr>\n",
       "      <th>4519</th>\n",
       "      <td>28.0</td>\n",
       "      <td>blue-collar</td>\n",
       "      <td>married</td>\n",
       "      <td>secondary</td>\n",
       "      <td>no</td>\n",
       "      <td>1137.0</td>\n",
       "      <td>no</td>\n",
       "      <td>no</td>\n",
       "      <td>cellular</td>\n",
       "      <td>6.0</td>\n",
       "      <td>2</td>\n",
       "      <td>129.0</td>\n",
       "      <td>4.0</td>\n",
       "      <td>211.0</td>\n",
       "      <td>3.0</td>\n",
       "      <td>other</td>\n",
       "      <td>no</td>\n",
       "      <td>2022</td>\n",
       "    </tr>\n",
       "    <tr>\n",
       "      <th>4520</th>\n",
       "      <td>44.0</td>\n",
       "      <td>entrepreneur</td>\n",
       "      <td>single</td>\n",
       "      <td>tertiary</td>\n",
       "      <td>no</td>\n",
       "      <td>1136.0</td>\n",
       "      <td>yes</td>\n",
       "      <td>yes</td>\n",
       "      <td>cellular</td>\n",
       "      <td>3.0</td>\n",
       "      <td>4</td>\n",
       "      <td>345.0</td>\n",
       "      <td>2.0</td>\n",
       "      <td>249.0</td>\n",
       "      <td>7.0</td>\n",
       "      <td>other</td>\n",
       "      <td>no</td>\n",
       "      <td>2022</td>\n",
       "    </tr>\n",
       "  </tbody>\n",
       "</table>\n",
       "<p>4521 rows × 18 columns</p>\n",
       "</div>"
      ],
      "text/plain": [
       "       age            job  marital  education default  balance housing loan  \\\n",
       "0     30.0     unemployed  married    primary      no   1787.0      no   no   \n",
       "1     33.0       services  married  secondary      no   4789.0     yes  yes   \n",
       "2     35.0     management   single   tertiary      no   1350.0     yes   no   \n",
       "3     30.0     management  married   tertiary      no      NaN     yes  yes   \n",
       "4     59.0    blue-collar  married  secondary      no      0.0     yes   no   \n",
       "...    ...            ...      ...        ...     ...      ...     ...  ...   \n",
       "4516  33.0       services  married  secondary      no   -333.0     yes   no   \n",
       "4517  57.0  self-employed  married   tertiary     yes  -3313.0     yes  yes   \n",
       "4518  57.0     technician  married  secondary      no    295.0      no   no   \n",
       "4519  28.0    blue-collar  married  secondary      no   1137.0      no   no   \n",
       "4520  44.0   entrepreneur   single   tertiary      no   1136.0     yes  yes   \n",
       "\n",
       "       contact   day  month  duration  campaign  pdays  previous poutcome   y  \\\n",
       "0     cellular  19.0     10      79.0       1.0   -1.0       0.0  unknown  no   \n",
       "1     cellular  11.0      5     220.0       1.0  339.0       4.0  failure  no   \n",
       "2     cellular  16.0      4     185.0       1.0  330.0       1.0  failure  no   \n",
       "3          NaN   3.0      6     199.0       4.0   -1.0       0.0  unknown  no   \n",
       "4          NaN   5.0      5     226.0       1.0   -1.0       0.0  unknown  no   \n",
       "...        ...   ...    ...       ...       ...    ...       ...      ...  ..   \n",
       "4516  cellular  30.0      7     329.0       5.0   -1.0       0.0  unknown  no   \n",
       "4517       NaN   9.0      5     153.0       1.0   -1.0       0.0  unknown  no   \n",
       "4518  cellular  19.0      8     151.0      11.0   -1.0       0.0  unknown  no   \n",
       "4519  cellular   6.0      2     129.0       4.0  211.0       3.0    other  no   \n",
       "4520  cellular   3.0      4     345.0       2.0  249.0       7.0    other  no   \n",
       "\n",
       "      year  \n",
       "0     2022  \n",
       "1     2022  \n",
       "2     2022  \n",
       "3     2022  \n",
       "4     2022  \n",
       "...    ...  \n",
       "4516  2022  \n",
       "4517  2022  \n",
       "4518  2022  \n",
       "4519  2022  \n",
       "4520  2022  \n",
       "\n",
       "[4521 rows x 18 columns]"
      ]
     },
     "execution_count": 103,
     "metadata": {},
     "output_type": "execute_result"
    }
   ],
   "source": [
    "bank = pd.read_csv('bank_data.csv')\n",
    "bank"
   ]
  },
  {
   "cell_type": "code",
   "execution_count": 104,
   "id": "c3d10275-1ca4-4973-8c30-cdd39ed2f4c4",
   "metadata": {},
   "outputs": [],
   "source": [
    "bank = pd.DataFrame(bank)"
   ]
  },
  {
   "cell_type": "code",
   "execution_count": 105,
   "id": "da136ad6-c1d3-4300-bf27-a73ad5b671ce",
   "metadata": {},
   "outputs": [],
   "source": [
    "age_series = bank['age']"
   ]
  },
  {
   "cell_type": "code",
   "execution_count": 106,
   "id": "c7d939ef-f537-4838-b904-6f61d44978c8",
   "metadata": {},
   "outputs": [
    {
     "data": {
      "text/plain": [
       "pandas.core.series.Series"
      ]
     },
     "execution_count": 106,
     "metadata": {},
     "output_type": "execute_result"
    }
   ],
   "source": [
    "type(age_series)"
   ]
  },
  {
   "cell_type": "code",
   "execution_count": 107,
   "id": "10c1a995-e3d4-4028-a713-b4803b45e872",
   "metadata": {},
   "outputs": [],
   "source": [
    "selected_columns_df = bank[['job', 'education', 'balance']]"
   ]
  },
  {
   "cell_type": "code",
   "execution_count": 108,
   "id": "691c75ec-0e52-41fe-af93-8067bdb952e2",
   "metadata": {},
   "outputs": [
    {
     "data": {
      "text/plain": [
       "pandas.core.frame.DataFrame"
      ]
     },
     "execution_count": 108,
     "metadata": {},
     "output_type": "execute_result"
    }
   ],
   "source": [
    "type(selected_columns_df)"
   ]
  },
  {
   "cell_type": "code",
   "execution_count": 114,
   "id": "30ae3c52-1431-47d6-9e68-954f36c11e1d",
   "metadata": {},
   "outputs": [
    {
     "data": {
      "text/html": [
       "<div>\n",
       "<style scoped>\n",
       "    .dataframe tbody tr th:only-of-type {\n",
       "        vertical-align: middle;\n",
       "    }\n",
       "\n",
       "    .dataframe tbody tr th {\n",
       "        vertical-align: top;\n",
       "    }\n",
       "\n",
       "    .dataframe thead th {\n",
       "        text-align: right;\n",
       "    }\n",
       "</style>\n",
       "<table border=\"1\" class=\"dataframe\">\n",
       "  <thead>\n",
       "    <tr style=\"text-align: right;\">\n",
       "      <th></th>\n",
       "      <th>age</th>\n",
       "      <th>job</th>\n",
       "      <th>marital</th>\n",
       "      <th>education</th>\n",
       "      <th>default</th>\n",
       "    </tr>\n",
       "  </thead>\n",
       "  <tbody>\n",
       "    <tr>\n",
       "      <th>4514</th>\n",
       "      <td>38.0</td>\n",
       "      <td>blue-collar</td>\n",
       "      <td>married</td>\n",
       "      <td>secondary</td>\n",
       "      <td>no</td>\n",
       "    </tr>\n",
       "    <tr>\n",
       "      <th>4515</th>\n",
       "      <td>32.0</td>\n",
       "      <td>services</td>\n",
       "      <td>single</td>\n",
       "      <td>secondary</td>\n",
       "      <td>no</td>\n",
       "    </tr>\n",
       "    <tr>\n",
       "      <th>4516</th>\n",
       "      <td>33.0</td>\n",
       "      <td>services</td>\n",
       "      <td>married</td>\n",
       "      <td>secondary</td>\n",
       "      <td>no</td>\n",
       "    </tr>\n",
       "    <tr>\n",
       "      <th>4517</th>\n",
       "      <td>57.0</td>\n",
       "      <td>self-employed</td>\n",
       "      <td>married</td>\n",
       "      <td>tertiary</td>\n",
       "      <td>yes</td>\n",
       "    </tr>\n",
       "    <tr>\n",
       "      <th>4518</th>\n",
       "      <td>57.0</td>\n",
       "      <td>technician</td>\n",
       "      <td>married</td>\n",
       "      <td>secondary</td>\n",
       "      <td>no</td>\n",
       "    </tr>\n",
       "    <tr>\n",
       "      <th>4519</th>\n",
       "      <td>28.0</td>\n",
       "      <td>blue-collar</td>\n",
       "      <td>married</td>\n",
       "      <td>secondary</td>\n",
       "      <td>no</td>\n",
       "    </tr>\n",
       "    <tr>\n",
       "      <th>4520</th>\n",
       "      <td>44.0</td>\n",
       "      <td>entrepreneur</td>\n",
       "      <td>single</td>\n",
       "      <td>tertiary</td>\n",
       "      <td>no</td>\n",
       "    </tr>\n",
       "  </tbody>\n",
       "</table>\n",
       "</div>"
      ],
      "text/plain": [
       "       age            job  marital  education default\n",
       "4514  38.0    blue-collar  married  secondary      no\n",
       "4515  32.0       services   single  secondary      no\n",
       "4516  33.0       services  married  secondary      no\n",
       "4517  57.0  self-employed  married   tertiary     yes\n",
       "4518  57.0     technician  married  secondary      no\n",
       "4519  28.0    blue-collar  married  secondary      no\n",
       "4520  44.0   entrepreneur   single   tertiary      no"
      ]
     },
     "execution_count": 114,
     "metadata": {},
     "output_type": "execute_result"
    }
   ],
   "source": [
    "bank.iloc[-7:, :5]"
   ]
  },
  {
   "cell_type": "code",
   "execution_count": 118,
   "id": "cfb574c7-bd8d-4bbb-8ac6-0885d87a48b5",
   "metadata": {},
   "outputs": [
    {
     "data": {
      "text/plain": [
       "0       2022-10-19\n",
       "1        2022-5-11\n",
       "2        2022-4-16\n",
       "3         2022-6-3\n",
       "4         2022-5-5\n",
       "           ...    \n",
       "4516     2022-7-30\n",
       "4517      2022-5-9\n",
       "4518     2022-8-19\n",
       "4519      2022-2-6\n",
       "4520      2022-4-3\n",
       "Name: contact_date, Length: 4521, dtype: object"
      ]
     },
     "execution_count": 118,
     "metadata": {},
     "output_type": "execute_result"
    }
   ],
   "source": [
    "bank['contact_date'] = bank['year'].astype(str)+'-'+bank['month'].astype(str)+'-'+bank['day'].astype(int).astype(str)\n",
    "bank['contact_date']"
   ]
  },
  {
   "cell_type": "code",
   "execution_count": 123,
   "id": "667c1f79-3241-4290-b8eb-5f3cc9a1ecfe",
   "metadata": {},
   "outputs": [
    {
     "data": {
      "text/plain": [
       "0      2022-10-19\n",
       "1      2022-05-11\n",
       "2      2022-04-16\n",
       "3      2022-06-03\n",
       "4      2022-05-05\n",
       "          ...    \n",
       "4516   2022-07-30\n",
       "4517   2022-05-09\n",
       "4518   2022-08-19\n",
       "4519   2022-02-06\n",
       "4520   2022-04-03\n",
       "Name: contact_date, Length: 4521, dtype: datetime64[ns]"
      ]
     },
     "execution_count": 123,
     "metadata": {},
     "output_type": "execute_result"
    }
   ],
   "source": [
    "bank['contact_date'] = pd.to_datetime(bank['contact_date'])\n",
    "bank['contact_date']"
   ]
  },
  {
   "cell_type": "code",
   "execution_count": 124,
   "id": "f24759e3-4913-41d5-a972-096b06ac59d1",
   "metadata": {},
   "outputs": [],
   "source": [
    "import warnings\n",
    "warnings.filterwarnings(\"ignore\")"
   ]
  },
  {
   "cell_type": "code",
   "execution_count": 139,
   "id": "2d6d1317-eb3f-42cf-aa0f-4836a8303a17",
   "metadata": {},
   "outputs": [
    {
     "data": {
      "text/html": [
       "<div>\n",
       "<style scoped>\n",
       "    .dataframe tbody tr th:only-of-type {\n",
       "        vertical-align: middle;\n",
       "    }\n",
       "\n",
       "    .dataframe tbody tr th {\n",
       "        vertical-align: top;\n",
       "    }\n",
       "\n",
       "    .dataframe thead th {\n",
       "        text-align: right;\n",
       "    }\n",
       "</style>\n",
       "<table border=\"1\" class=\"dataframe\">\n",
       "  <thead>\n",
       "    <tr style=\"text-align: right;\">\n",
       "      <th></th>\n",
       "      <th>Unnamed: 0</th>\n",
       "      <th>case_id</th>\n",
       "      <th>Hospital_code</th>\n",
       "      <th>Hospital_type_code</th>\n",
       "      <th>City_Code_Hospital</th>\n",
       "      <th>Hospital_region_code</th>\n",
       "      <th>Available Extra Rooms in Hospital</th>\n",
       "      <th>Department</th>\n",
       "      <th>Ward_Type</th>\n",
       "      <th>Ward_Facility_Code</th>\n",
       "      <th>Bed Grade</th>\n",
       "      <th>patientid</th>\n",
       "      <th>City_Code_Patient</th>\n",
       "      <th>Type of Admission</th>\n",
       "      <th>Severity of Illness</th>\n",
       "      <th>Visitors with Patient</th>\n",
       "      <th>Age</th>\n",
       "      <th>Admission_Deposit</th>\n",
       "      <th>Stay</th>\n",
       "    </tr>\n",
       "  </thead>\n",
       "  <tbody>\n",
       "    <tr>\n",
       "      <th>0</th>\n",
       "      <td>119967</td>\n",
       "      <td>119968</td>\n",
       "      <td>27</td>\n",
       "      <td>a</td>\n",
       "      <td>7</td>\n",
       "      <td>Y</td>\n",
       "      <td>3</td>\n",
       "      <td>gynecology</td>\n",
       "      <td>R</td>\n",
       "      <td>C</td>\n",
       "      <td>2.0</td>\n",
       "      <td>11389</td>\n",
       "      <td>8.0</td>\n",
       "      <td>Emergency</td>\n",
       "      <td>Minor</td>\n",
       "      <td>2</td>\n",
       "      <td>11-20</td>\n",
       "      <td>5072.0</td>\n",
       "      <td>21-30</td>\n",
       "    </tr>\n",
       "    <tr>\n",
       "      <th>1</th>\n",
       "      <td>92433</td>\n",
       "      <td>92434</td>\n",
       "      <td>6</td>\n",
       "      <td>a</td>\n",
       "      <td>6</td>\n",
       "      <td>X</td>\n",
       "      <td>4</td>\n",
       "      <td>gynecology</td>\n",
       "      <td>Q</td>\n",
       "      <td>F</td>\n",
       "      <td>1.0</td>\n",
       "      <td>12522</td>\n",
       "      <td>2.0</td>\n",
       "      <td>Emergency</td>\n",
       "      <td>Extreme</td>\n",
       "      <td>4</td>\n",
       "      <td>31-40</td>\n",
       "      <td>3585.0</td>\n",
       "      <td>21-30</td>\n",
       "    </tr>\n",
       "    <tr>\n",
       "      <th>2</th>\n",
       "      <td>132258</td>\n",
       "      <td>132259</td>\n",
       "      <td>16</td>\n",
       "      <td>c</td>\n",
       "      <td>3</td>\n",
       "      <td>Z</td>\n",
       "      <td>4</td>\n",
       "      <td>gynecology</td>\n",
       "      <td>S</td>\n",
       "      <td>A</td>\n",
       "      <td>3.0</td>\n",
       "      <td>119556</td>\n",
       "      <td>8.0</td>\n",
       "      <td>Trauma</td>\n",
       "      <td>Moderate</td>\n",
       "      <td>6</td>\n",
       "      <td>71-80</td>\n",
       "      <td>4013.0</td>\n",
       "      <td>More than 100 Days</td>\n",
       "    </tr>\n",
       "    <tr>\n",
       "      <th>3</th>\n",
       "      <td>168439</td>\n",
       "      <td>168440</td>\n",
       "      <td>23</td>\n",
       "      <td>a</td>\n",
       "      <td>6</td>\n",
       "      <td>X</td>\n",
       "      <td>2</td>\n",
       "      <td>anesthesia</td>\n",
       "      <td>S</td>\n",
       "      <td>F</td>\n",
       "      <td>3.0</td>\n",
       "      <td>107177</td>\n",
       "      <td>8.0</td>\n",
       "      <td>Urgent</td>\n",
       "      <td>Extreme</td>\n",
       "      <td>2</td>\n",
       "      <td>71-80</td>\n",
       "      <td>5160.0</td>\n",
       "      <td>21-30</td>\n",
       "    </tr>\n",
       "    <tr>\n",
       "      <th>4</th>\n",
       "      <td>82100</td>\n",
       "      <td>82101</td>\n",
       "      <td>25</td>\n",
       "      <td>e</td>\n",
       "      <td>1</td>\n",
       "      <td>X</td>\n",
       "      <td>3</td>\n",
       "      <td>gynecology</td>\n",
       "      <td>R</td>\n",
       "      <td>E</td>\n",
       "      <td>3.0</td>\n",
       "      <td>64508</td>\n",
       "      <td>13.0</td>\n",
       "      <td>Trauma</td>\n",
       "      <td>Moderate</td>\n",
       "      <td>3</td>\n",
       "      <td>61-70</td>\n",
       "      <td>4099.0</td>\n",
       "      <td>21-30</td>\n",
       "    </tr>\n",
       "    <tr>\n",
       "      <th>...</th>\n",
       "      <td>...</td>\n",
       "      <td>...</td>\n",
       "      <td>...</td>\n",
       "      <td>...</td>\n",
       "      <td>...</td>\n",
       "      <td>...</td>\n",
       "      <td>...</td>\n",
       "      <td>...</td>\n",
       "      <td>...</td>\n",
       "      <td>...</td>\n",
       "      <td>...</td>\n",
       "      <td>...</td>\n",
       "      <td>...</td>\n",
       "      <td>...</td>\n",
       "      <td>...</td>\n",
       "      <td>...</td>\n",
       "      <td>...</td>\n",
       "      <td>...</td>\n",
       "      <td>...</td>\n",
       "    </tr>\n",
       "    <tr>\n",
       "      <th>51233</th>\n",
       "      <td>289419</td>\n",
       "      <td>289420</td>\n",
       "      <td>10</td>\n",
       "      <td>e</td>\n",
       "      <td>1</td>\n",
       "      <td>X</td>\n",
       "      <td>3</td>\n",
       "      <td>gynecology</td>\n",
       "      <td>Q</td>\n",
       "      <td>E</td>\n",
       "      <td>4.0</td>\n",
       "      <td>84995</td>\n",
       "      <td>8.0</td>\n",
       "      <td>Trauma</td>\n",
       "      <td>Minor</td>\n",
       "      <td>2</td>\n",
       "      <td>21-30</td>\n",
       "      <td>5105.0</td>\n",
       "      <td>11-20</td>\n",
       "    </tr>\n",
       "    <tr>\n",
       "      <th>51234</th>\n",
       "      <td>285283</td>\n",
       "      <td>285284</td>\n",
       "      <td>11</td>\n",
       "      <td>b</td>\n",
       "      <td>2</td>\n",
       "      <td>Y</td>\n",
       "      <td>4</td>\n",
       "      <td>gynecology</td>\n",
       "      <td>Q</td>\n",
       "      <td>D</td>\n",
       "      <td>2.0</td>\n",
       "      <td>27052</td>\n",
       "      <td>8.0</td>\n",
       "      <td>Emergency</td>\n",
       "      <td>Moderate</td>\n",
       "      <td>2</td>\n",
       "      <td>51-60</td>\n",
       "      <td>4051.0</td>\n",
       "      <td>21-30</td>\n",
       "    </tr>\n",
       "    <tr>\n",
       "      <th>51235</th>\n",
       "      <td>79117</td>\n",
       "      <td>79118</td>\n",
       "      <td>9</td>\n",
       "      <td>d</td>\n",
       "      <td>5</td>\n",
       "      <td>Z</td>\n",
       "      <td>3</td>\n",
       "      <td>gynecology</td>\n",
       "      <td>S</td>\n",
       "      <td>F</td>\n",
       "      <td>3.0</td>\n",
       "      <td>109756</td>\n",
       "      <td>5.0</td>\n",
       "      <td>Emergency</td>\n",
       "      <td>Moderate</td>\n",
       "      <td>10</td>\n",
       "      <td>51-60</td>\n",
       "      <td>3677.0</td>\n",
       "      <td>More than 100 Days</td>\n",
       "    </tr>\n",
       "    <tr>\n",
       "      <th>51236</th>\n",
       "      <td>128901</td>\n",
       "      <td>128902</td>\n",
       "      <td>23</td>\n",
       "      <td>a</td>\n",
       "      <td>6</td>\n",
       "      <td>X</td>\n",
       "      <td>4</td>\n",
       "      <td>gynecology</td>\n",
       "      <td>R</td>\n",
       "      <td>F</td>\n",
       "      <td>4.0</td>\n",
       "      <td>35479</td>\n",
       "      <td>12.0</td>\n",
       "      <td>Trauma</td>\n",
       "      <td>Minor</td>\n",
       "      <td>2</td>\n",
       "      <td>21-30</td>\n",
       "      <td>4470.0</td>\n",
       "      <td>21-30</td>\n",
       "    </tr>\n",
       "    <tr>\n",
       "      <th>51237</th>\n",
       "      <td>210970</td>\n",
       "      <td>210971</td>\n",
       "      <td>2</td>\n",
       "      <td>c</td>\n",
       "      <td>5</td>\n",
       "      <td>Z</td>\n",
       "      <td>2</td>\n",
       "      <td>TB &amp; Chest disease</td>\n",
       "      <td>S</td>\n",
       "      <td>F</td>\n",
       "      <td>2.0</td>\n",
       "      <td>99310</td>\n",
       "      <td>9.0</td>\n",
       "      <td>Trauma</td>\n",
       "      <td>Extreme</td>\n",
       "      <td>4</td>\n",
       "      <td>51-60</td>\n",
       "      <td>4133.0</td>\n",
       "      <td>31-40</td>\n",
       "    </tr>\n",
       "  </tbody>\n",
       "</table>\n",
       "<p>51238 rows × 19 columns</p>\n",
       "</div>"
      ],
      "text/plain": [
       "       Unnamed: 0  case_id  Hospital_code Hospital_type_code  \\\n",
       "0          119967   119968             27                  a   \n",
       "1           92433    92434              6                  a   \n",
       "2          132258   132259             16                  c   \n",
       "3          168439   168440             23                  a   \n",
       "4           82100    82101             25                  e   \n",
       "...           ...      ...            ...                ...   \n",
       "51233      289419   289420             10                  e   \n",
       "51234      285283   285284             11                  b   \n",
       "51235       79117    79118              9                  d   \n",
       "51236      128901   128902             23                  a   \n",
       "51237      210970   210971              2                  c   \n",
       "\n",
       "       City_Code_Hospital Hospital_region_code  \\\n",
       "0                       7                    Y   \n",
       "1                       6                    X   \n",
       "2                       3                    Z   \n",
       "3                       6                    X   \n",
       "4                       1                    X   \n",
       "...                   ...                  ...   \n",
       "51233                   1                    X   \n",
       "51234                   2                    Y   \n",
       "51235                   5                    Z   \n",
       "51236                   6                    X   \n",
       "51237                   5                    Z   \n",
       "\n",
       "       Available Extra Rooms in Hospital          Department Ward_Type  \\\n",
       "0                                      3          gynecology         R   \n",
       "1                                      4          gynecology         Q   \n",
       "2                                      4          gynecology         S   \n",
       "3                                      2          anesthesia         S   \n",
       "4                                      3          gynecology         R   \n",
       "...                                  ...                 ...       ...   \n",
       "51233                                  3          gynecology         Q   \n",
       "51234                                  4          gynecology         Q   \n",
       "51235                                  3          gynecology         S   \n",
       "51236                                  4          gynecology         R   \n",
       "51237                                  2  TB & Chest disease         S   \n",
       "\n",
       "      Ward_Facility_Code  Bed Grade  patientid  City_Code_Patient  \\\n",
       "0                      C        2.0      11389                8.0   \n",
       "1                      F        1.0      12522                2.0   \n",
       "2                      A        3.0     119556                8.0   \n",
       "3                      F        3.0     107177                8.0   \n",
       "4                      E        3.0      64508               13.0   \n",
       "...                  ...        ...        ...                ...   \n",
       "51233                  E        4.0      84995                8.0   \n",
       "51234                  D        2.0      27052                8.0   \n",
       "51235                  F        3.0     109756                5.0   \n",
       "51236                  F        4.0      35479               12.0   \n",
       "51237                  F        2.0      99310                9.0   \n",
       "\n",
       "      Type of Admission Severity of Illness  Visitors with Patient    Age  \\\n",
       "0             Emergency               Minor                      2  11-20   \n",
       "1             Emergency             Extreme                      4  31-40   \n",
       "2                Trauma            Moderate                      6  71-80   \n",
       "3                Urgent             Extreme                      2  71-80   \n",
       "4                Trauma            Moderate                      3  61-70   \n",
       "...                 ...                 ...                    ...    ...   \n",
       "51233            Trauma               Minor                      2  21-30   \n",
       "51234         Emergency            Moderate                      2  51-60   \n",
       "51235         Emergency            Moderate                     10  51-60   \n",
       "51236            Trauma               Minor                      2  21-30   \n",
       "51237            Trauma             Extreme                      4  51-60   \n",
       "\n",
       "       Admission_Deposit                Stay  \n",
       "0                 5072.0               21-30  \n",
       "1                 3585.0               21-30  \n",
       "2                 4013.0  More than 100 Days  \n",
       "3                 5160.0               21-30  \n",
       "4                 4099.0               21-30  \n",
       "...                  ...                 ...  \n",
       "51233             5105.0               11-20  \n",
       "51234             4051.0               21-30  \n",
       "51235             3677.0  More than 100 Days  \n",
       "51236             4470.0               21-30  \n",
       "51237             4133.0               31-40  \n",
       "\n",
       "[51238 rows x 19 columns]"
      ]
     },
     "execution_count": 139,
     "metadata": {},
     "output_type": "execute_result"
    }
   ],
   "source": [
    "hc = pd.read_csv('hc_train.csv')\n",
    "hc"
   ]
  },
  {
   "cell_type": "code",
   "execution_count": 140,
   "id": "888c58e6-0a74-4a32-b4aa-fb330f51e908",
   "metadata": {},
   "outputs": [
    {
     "data": {
      "text/html": [
       "<div>\n",
       "<style scoped>\n",
       "    .dataframe tbody tr th:only-of-type {\n",
       "        vertical-align: middle;\n",
       "    }\n",
       "\n",
       "    .dataframe tbody tr th {\n",
       "        vertical-align: top;\n",
       "    }\n",
       "\n",
       "    .dataframe thead th {\n",
       "        text-align: right;\n",
       "    }\n",
       "</style>\n",
       "<table border=\"1\" class=\"dataframe\">\n",
       "  <thead>\n",
       "    <tr style=\"text-align: right;\">\n",
       "      <th></th>\n",
       "      <th>Unnamed: 0</th>\n",
       "      <th>case_id</th>\n",
       "      <th>Hospital_code</th>\n",
       "      <th>Hospital_type_code</th>\n",
       "      <th>City_Code_Hospital</th>\n",
       "      <th>Hospital_region_code</th>\n",
       "      <th>Available Extra Rooms in Hospital</th>\n",
       "      <th>Department</th>\n",
       "      <th>Ward_Type</th>\n",
       "      <th>Ward_Facility_Code</th>\n",
       "      <th>Bed Grade</th>\n",
       "      <th>patientid</th>\n",
       "      <th>City_Code_Patient</th>\n",
       "      <th>Type of Admission</th>\n",
       "      <th>Severity of Illness</th>\n",
       "      <th>Visitors with Patient</th>\n",
       "      <th>Age</th>\n",
       "      <th>Admission_Deposit</th>\n",
       "      <th>Stay</th>\n",
       "    </tr>\n",
       "  </thead>\n",
       "  <tbody>\n",
       "    <tr>\n",
       "      <th>0</th>\n",
       "      <td>119967</td>\n",
       "      <td>119968</td>\n",
       "      <td>27</td>\n",
       "      <td>a</td>\n",
       "      <td>7</td>\n",
       "      <td>Y</td>\n",
       "      <td>3</td>\n",
       "      <td>gynecology</td>\n",
       "      <td>R</td>\n",
       "      <td>C</td>\n",
       "      <td>2.0</td>\n",
       "      <td>11389</td>\n",
       "      <td>8.0</td>\n",
       "      <td>Emergency</td>\n",
       "      <td>Minor</td>\n",
       "      <td>2</td>\n",
       "      <td>11-20</td>\n",
       "      <td>5072.0</td>\n",
       "      <td>21-30</td>\n",
       "    </tr>\n",
       "    <tr>\n",
       "      <th>1</th>\n",
       "      <td>92433</td>\n",
       "      <td>92434</td>\n",
       "      <td>6</td>\n",
       "      <td>a</td>\n",
       "      <td>6</td>\n",
       "      <td>X</td>\n",
       "      <td>4</td>\n",
       "      <td>gynecology</td>\n",
       "      <td>Q</td>\n",
       "      <td>F</td>\n",
       "      <td>1.0</td>\n",
       "      <td>12522</td>\n",
       "      <td>2.0</td>\n",
       "      <td>Emergency</td>\n",
       "      <td>Extreme</td>\n",
       "      <td>4</td>\n",
       "      <td>31-40</td>\n",
       "      <td>3585.0</td>\n",
       "      <td>21-30</td>\n",
       "    </tr>\n",
       "    <tr>\n",
       "      <th>2</th>\n",
       "      <td>132258</td>\n",
       "      <td>132259</td>\n",
       "      <td>16</td>\n",
       "      <td>c</td>\n",
       "      <td>3</td>\n",
       "      <td>Z</td>\n",
       "      <td>4</td>\n",
       "      <td>gynecology</td>\n",
       "      <td>S</td>\n",
       "      <td>A</td>\n",
       "      <td>3.0</td>\n",
       "      <td>119556</td>\n",
       "      <td>8.0</td>\n",
       "      <td>Trauma</td>\n",
       "      <td>Moderate</td>\n",
       "      <td>6</td>\n",
       "      <td>71-80</td>\n",
       "      <td>4013.0</td>\n",
       "      <td>More than 100 Days</td>\n",
       "    </tr>\n",
       "    <tr>\n",
       "      <th>3</th>\n",
       "      <td>168439</td>\n",
       "      <td>168440</td>\n",
       "      <td>23</td>\n",
       "      <td>a</td>\n",
       "      <td>6</td>\n",
       "      <td>X</td>\n",
       "      <td>2</td>\n",
       "      <td>anesthesia</td>\n",
       "      <td>S</td>\n",
       "      <td>F</td>\n",
       "      <td>3.0</td>\n",
       "      <td>107177</td>\n",
       "      <td>8.0</td>\n",
       "      <td>Urgent</td>\n",
       "      <td>Extreme</td>\n",
       "      <td>2</td>\n",
       "      <td>71-80</td>\n",
       "      <td>5160.0</td>\n",
       "      <td>21-30</td>\n",
       "    </tr>\n",
       "    <tr>\n",
       "      <th>4</th>\n",
       "      <td>82100</td>\n",
       "      <td>82101</td>\n",
       "      <td>25</td>\n",
       "      <td>e</td>\n",
       "      <td>1</td>\n",
       "      <td>X</td>\n",
       "      <td>3</td>\n",
       "      <td>gynecology</td>\n",
       "      <td>R</td>\n",
       "      <td>E</td>\n",
       "      <td>3.0</td>\n",
       "      <td>64508</td>\n",
       "      <td>13.0</td>\n",
       "      <td>Trauma</td>\n",
       "      <td>Moderate</td>\n",
       "      <td>3</td>\n",
       "      <td>61-70</td>\n",
       "      <td>4099.0</td>\n",
       "      <td>21-30</td>\n",
       "    </tr>\n",
       "  </tbody>\n",
       "</table>\n",
       "</div>"
      ],
      "text/plain": [
       "   Unnamed: 0  case_id  Hospital_code Hospital_type_code  City_Code_Hospital  \\\n",
       "0      119967   119968             27                  a                   7   \n",
       "1       92433    92434              6                  a                   6   \n",
       "2      132258   132259             16                  c                   3   \n",
       "3      168439   168440             23                  a                   6   \n",
       "4       82100    82101             25                  e                   1   \n",
       "\n",
       "  Hospital_region_code  Available Extra Rooms in Hospital  Department  \\\n",
       "0                    Y                                  3  gynecology   \n",
       "1                    X                                  4  gynecology   \n",
       "2                    Z                                  4  gynecology   \n",
       "3                    X                                  2  anesthesia   \n",
       "4                    X                                  3  gynecology   \n",
       "\n",
       "  Ward_Type Ward_Facility_Code  Bed Grade  patientid  City_Code_Patient  \\\n",
       "0         R                  C        2.0      11389                8.0   \n",
       "1         Q                  F        1.0      12522                2.0   \n",
       "2         S                  A        3.0     119556                8.0   \n",
       "3         S                  F        3.0     107177                8.0   \n",
       "4         R                  E        3.0      64508               13.0   \n",
       "\n",
       "  Type of Admission Severity of Illness  Visitors with Patient    Age  \\\n",
       "0         Emergency               Minor                      2  11-20   \n",
       "1         Emergency             Extreme                      4  31-40   \n",
       "2            Trauma            Moderate                      6  71-80   \n",
       "3            Urgent             Extreme                      2  71-80   \n",
       "4            Trauma            Moderate                      3  61-70   \n",
       "\n",
       "   Admission_Deposit                Stay  \n",
       "0             5072.0               21-30  \n",
       "1             3585.0               21-30  \n",
       "2             4013.0  More than 100 Days  \n",
       "3             5160.0               21-30  \n",
       "4             4099.0               21-30  "
      ]
     },
     "execution_count": 140,
     "metadata": {},
     "output_type": "execute_result"
    }
   ],
   "source": [
    "hc.loc[0:4]"
   ]
  },
  {
   "cell_type": "code",
   "execution_count": 143,
   "id": "dc779168-7bc2-47ea-889e-7eb0385d4e98",
   "metadata": {},
   "outputs": [],
   "source": [
    "hc['Department'] = hc['Department'].str.upper()"
   ]
  },
  {
   "cell_type": "code",
   "execution_count": 144,
   "id": "f850fbc9-2795-4287-b3a7-474b6017557b",
   "metadata": {},
   "outputs": [],
   "source": [
    "hc['Department'] = hc['Department'].replace('TB & Chest disease', 'Tuberculosis & Chest')"
   ]
  },
  {
   "cell_type": "code",
   "execution_count": 145,
   "id": "07a171f5-af89-4576-b04c-931f170f9ec5",
   "metadata": {},
   "outputs": [
    {
     "data": {
      "text/plain": [
       "array(['GYNECOLOGY', 'ANESTHESIA', 'RADIOTHERAPY', 'SURGERY',\n",
       "       'TB & CHEST DISEASE'], dtype=object)"
      ]
     },
     "execution_count": 145,
     "metadata": {},
     "output_type": "execute_result"
    }
   ],
   "source": [
    "hc['Department'].unique()"
   ]
  },
  {
   "cell_type": "code",
   "execution_count": 146,
   "id": "7e70f15d-cc45-4fbf-ad37-404a940879f1",
   "metadata": {},
   "outputs": [],
   "source": [
    "map_dict = {'Extreme': '3rd degree', 'Moderate': '2nd degree', 'Minor': '1st degree'}\n",
    "hc['Severity of Illness'] = hc['Severity of Illness'].map(map_dict)"
   ]
  },
  {
   "cell_type": "code",
   "execution_count": 150,
   "id": "67c19900-4ede-4a0c-9fe7-e6f364393fdb",
   "metadata": {},
   "outputs": [
    {
     "data": {
      "text/html": [
       "<div>\n",
       "<style scoped>\n",
       "    .dataframe tbody tr th:only-of-type {\n",
       "        vertical-align: middle;\n",
       "    }\n",
       "\n",
       "    .dataframe tbody tr th {\n",
       "        vertical-align: top;\n",
       "    }\n",
       "\n",
       "    .dataframe thead th {\n",
       "        text-align: right;\n",
       "    }\n",
       "</style>\n",
       "<table border=\"1\" class=\"dataframe\">\n",
       "  <thead>\n",
       "    <tr style=\"text-align: right;\">\n",
       "      <th></th>\n",
       "      <th>unnamed: 0</th>\n",
       "      <th>case_id</th>\n",
       "      <th>hospital_code</th>\n",
       "      <th>hospital_type_code</th>\n",
       "      <th>city_code_hospital</th>\n",
       "      <th>hospital_region_code</th>\n",
       "      <th>available extra rooms in hospital</th>\n",
       "      <th>department</th>\n",
       "      <th>ward_type</th>\n",
       "      <th>ward_facility_code</th>\n",
       "      <th>bed grade</th>\n",
       "      <th>patientid</th>\n",
       "      <th>city_code_patient</th>\n",
       "      <th>type of admission</th>\n",
       "      <th>severity of illness</th>\n",
       "      <th>visitors with patient</th>\n",
       "      <th>age</th>\n",
       "      <th>admission_deposit</th>\n",
       "      <th>stay</th>\n",
       "    </tr>\n",
       "  </thead>\n",
       "  <tbody>\n",
       "    <tr>\n",
       "      <th>0</th>\n",
       "      <td>119967</td>\n",
       "      <td>119968</td>\n",
       "      <td>27</td>\n",
       "      <td>a</td>\n",
       "      <td>7</td>\n",
       "      <td>Y</td>\n",
       "      <td>3</td>\n",
       "      <td>GYNECOLOGY</td>\n",
       "      <td>R</td>\n",
       "      <td>C</td>\n",
       "      <td>2.0</td>\n",
       "      <td>11389</td>\n",
       "      <td>8.0</td>\n",
       "      <td>Emergency</td>\n",
       "      <td>1st degree</td>\n",
       "      <td>2</td>\n",
       "      <td>11-20</td>\n",
       "      <td>5072.0</td>\n",
       "      <td>21-30</td>\n",
       "    </tr>\n",
       "    <tr>\n",
       "      <th>1</th>\n",
       "      <td>92433</td>\n",
       "      <td>92434</td>\n",
       "      <td>6</td>\n",
       "      <td>a</td>\n",
       "      <td>6</td>\n",
       "      <td>X</td>\n",
       "      <td>4</td>\n",
       "      <td>GYNECOLOGY</td>\n",
       "      <td>Q</td>\n",
       "      <td>F</td>\n",
       "      <td>1.0</td>\n",
       "      <td>12522</td>\n",
       "      <td>2.0</td>\n",
       "      <td>Emergency</td>\n",
       "      <td>3rd degree</td>\n",
       "      <td>4</td>\n",
       "      <td>31-40</td>\n",
       "      <td>3585.0</td>\n",
       "      <td>21-30</td>\n",
       "    </tr>\n",
       "    <tr>\n",
       "      <th>2</th>\n",
       "      <td>132258</td>\n",
       "      <td>132259</td>\n",
       "      <td>16</td>\n",
       "      <td>c</td>\n",
       "      <td>3</td>\n",
       "      <td>Z</td>\n",
       "      <td>4</td>\n",
       "      <td>GYNECOLOGY</td>\n",
       "      <td>S</td>\n",
       "      <td>A</td>\n",
       "      <td>3.0</td>\n",
       "      <td>119556</td>\n",
       "      <td>8.0</td>\n",
       "      <td>Trauma</td>\n",
       "      <td>2nd degree</td>\n",
       "      <td>6</td>\n",
       "      <td>71-80</td>\n",
       "      <td>4013.0</td>\n",
       "      <td>More than 100 Days</td>\n",
       "    </tr>\n",
       "    <tr>\n",
       "      <th>3</th>\n",
       "      <td>168439</td>\n",
       "      <td>168440</td>\n",
       "      <td>23</td>\n",
       "      <td>a</td>\n",
       "      <td>6</td>\n",
       "      <td>X</td>\n",
       "      <td>2</td>\n",
       "      <td>ANESTHESIA</td>\n",
       "      <td>S</td>\n",
       "      <td>F</td>\n",
       "      <td>3.0</td>\n",
       "      <td>107177</td>\n",
       "      <td>8.0</td>\n",
       "      <td>Urgent</td>\n",
       "      <td>3rd degree</td>\n",
       "      <td>2</td>\n",
       "      <td>71-80</td>\n",
       "      <td>5160.0</td>\n",
       "      <td>21-30</td>\n",
       "    </tr>\n",
       "    <tr>\n",
       "      <th>4</th>\n",
       "      <td>82100</td>\n",
       "      <td>82101</td>\n",
       "      <td>25</td>\n",
       "      <td>e</td>\n",
       "      <td>1</td>\n",
       "      <td>X</td>\n",
       "      <td>3</td>\n",
       "      <td>GYNECOLOGY</td>\n",
       "      <td>R</td>\n",
       "      <td>E</td>\n",
       "      <td>3.0</td>\n",
       "      <td>64508</td>\n",
       "      <td>13.0</td>\n",
       "      <td>Trauma</td>\n",
       "      <td>2nd degree</td>\n",
       "      <td>3</td>\n",
       "      <td>61-70</td>\n",
       "      <td>4099.0</td>\n",
       "      <td>21-30</td>\n",
       "    </tr>\n",
       "    <tr>\n",
       "      <th>...</th>\n",
       "      <td>...</td>\n",
       "      <td>...</td>\n",
       "      <td>...</td>\n",
       "      <td>...</td>\n",
       "      <td>...</td>\n",
       "      <td>...</td>\n",
       "      <td>...</td>\n",
       "      <td>...</td>\n",
       "      <td>...</td>\n",
       "      <td>...</td>\n",
       "      <td>...</td>\n",
       "      <td>...</td>\n",
       "      <td>...</td>\n",
       "      <td>...</td>\n",
       "      <td>...</td>\n",
       "      <td>...</td>\n",
       "      <td>...</td>\n",
       "      <td>...</td>\n",
       "      <td>...</td>\n",
       "    </tr>\n",
       "    <tr>\n",
       "      <th>51233</th>\n",
       "      <td>289419</td>\n",
       "      <td>289420</td>\n",
       "      <td>10</td>\n",
       "      <td>e</td>\n",
       "      <td>1</td>\n",
       "      <td>X</td>\n",
       "      <td>3</td>\n",
       "      <td>GYNECOLOGY</td>\n",
       "      <td>Q</td>\n",
       "      <td>E</td>\n",
       "      <td>4.0</td>\n",
       "      <td>84995</td>\n",
       "      <td>8.0</td>\n",
       "      <td>Trauma</td>\n",
       "      <td>1st degree</td>\n",
       "      <td>2</td>\n",
       "      <td>21-30</td>\n",
       "      <td>5105.0</td>\n",
       "      <td>11-20</td>\n",
       "    </tr>\n",
       "    <tr>\n",
       "      <th>51234</th>\n",
       "      <td>285283</td>\n",
       "      <td>285284</td>\n",
       "      <td>11</td>\n",
       "      <td>b</td>\n",
       "      <td>2</td>\n",
       "      <td>Y</td>\n",
       "      <td>4</td>\n",
       "      <td>GYNECOLOGY</td>\n",
       "      <td>Q</td>\n",
       "      <td>D</td>\n",
       "      <td>2.0</td>\n",
       "      <td>27052</td>\n",
       "      <td>8.0</td>\n",
       "      <td>Emergency</td>\n",
       "      <td>2nd degree</td>\n",
       "      <td>2</td>\n",
       "      <td>51-60</td>\n",
       "      <td>4051.0</td>\n",
       "      <td>21-30</td>\n",
       "    </tr>\n",
       "    <tr>\n",
       "      <th>51235</th>\n",
       "      <td>79117</td>\n",
       "      <td>79118</td>\n",
       "      <td>9</td>\n",
       "      <td>d</td>\n",
       "      <td>5</td>\n",
       "      <td>Z</td>\n",
       "      <td>3</td>\n",
       "      <td>GYNECOLOGY</td>\n",
       "      <td>S</td>\n",
       "      <td>F</td>\n",
       "      <td>3.0</td>\n",
       "      <td>109756</td>\n",
       "      <td>5.0</td>\n",
       "      <td>Emergency</td>\n",
       "      <td>2nd degree</td>\n",
       "      <td>10</td>\n",
       "      <td>51-60</td>\n",
       "      <td>3677.0</td>\n",
       "      <td>More than 100 Days</td>\n",
       "    </tr>\n",
       "    <tr>\n",
       "      <th>51236</th>\n",
       "      <td>128901</td>\n",
       "      <td>128902</td>\n",
       "      <td>23</td>\n",
       "      <td>a</td>\n",
       "      <td>6</td>\n",
       "      <td>X</td>\n",
       "      <td>4</td>\n",
       "      <td>GYNECOLOGY</td>\n",
       "      <td>R</td>\n",
       "      <td>F</td>\n",
       "      <td>4.0</td>\n",
       "      <td>35479</td>\n",
       "      <td>12.0</td>\n",
       "      <td>Trauma</td>\n",
       "      <td>1st degree</td>\n",
       "      <td>2</td>\n",
       "      <td>21-30</td>\n",
       "      <td>4470.0</td>\n",
       "      <td>21-30</td>\n",
       "    </tr>\n",
       "    <tr>\n",
       "      <th>51237</th>\n",
       "      <td>210970</td>\n",
       "      <td>210971</td>\n",
       "      <td>2</td>\n",
       "      <td>c</td>\n",
       "      <td>5</td>\n",
       "      <td>Z</td>\n",
       "      <td>2</td>\n",
       "      <td>TB &amp; CHEST DISEASE</td>\n",
       "      <td>S</td>\n",
       "      <td>F</td>\n",
       "      <td>2.0</td>\n",
       "      <td>99310</td>\n",
       "      <td>9.0</td>\n",
       "      <td>Trauma</td>\n",
       "      <td>3rd degree</td>\n",
       "      <td>4</td>\n",
       "      <td>51-60</td>\n",
       "      <td>4133.0</td>\n",
       "      <td>31-40</td>\n",
       "    </tr>\n",
       "  </tbody>\n",
       "</table>\n",
       "<p>51238 rows × 19 columns</p>\n",
       "</div>"
      ],
      "text/plain": [
       "       unnamed: 0  case_id  hospital_code hospital_type_code  \\\n",
       "0          119967   119968             27                  a   \n",
       "1           92433    92434              6                  a   \n",
       "2          132258   132259             16                  c   \n",
       "3          168439   168440             23                  a   \n",
       "4           82100    82101             25                  e   \n",
       "...           ...      ...            ...                ...   \n",
       "51233      289419   289420             10                  e   \n",
       "51234      285283   285284             11                  b   \n",
       "51235       79117    79118              9                  d   \n",
       "51236      128901   128902             23                  a   \n",
       "51237      210970   210971              2                  c   \n",
       "\n",
       "       city_code_hospital hospital_region_code  \\\n",
       "0                       7                    Y   \n",
       "1                       6                    X   \n",
       "2                       3                    Z   \n",
       "3                       6                    X   \n",
       "4                       1                    X   \n",
       "...                   ...                  ...   \n",
       "51233                   1                    X   \n",
       "51234                   2                    Y   \n",
       "51235                   5                    Z   \n",
       "51236                   6                    X   \n",
       "51237                   5                    Z   \n",
       "\n",
       "       available extra rooms in hospital          department ward_type  \\\n",
       "0                                      3          GYNECOLOGY         R   \n",
       "1                                      4          GYNECOLOGY         Q   \n",
       "2                                      4          GYNECOLOGY         S   \n",
       "3                                      2          ANESTHESIA         S   \n",
       "4                                      3          GYNECOLOGY         R   \n",
       "...                                  ...                 ...       ...   \n",
       "51233                                  3          GYNECOLOGY         Q   \n",
       "51234                                  4          GYNECOLOGY         Q   \n",
       "51235                                  3          GYNECOLOGY         S   \n",
       "51236                                  4          GYNECOLOGY         R   \n",
       "51237                                  2  TB & CHEST DISEASE         S   \n",
       "\n",
       "      ward_facility_code  bed grade  patientid  city_code_patient  \\\n",
       "0                      C        2.0      11389                8.0   \n",
       "1                      F        1.0      12522                2.0   \n",
       "2                      A        3.0     119556                8.0   \n",
       "3                      F        3.0     107177                8.0   \n",
       "4                      E        3.0      64508               13.0   \n",
       "...                  ...        ...        ...                ...   \n",
       "51233                  E        4.0      84995                8.0   \n",
       "51234                  D        2.0      27052                8.0   \n",
       "51235                  F        3.0     109756                5.0   \n",
       "51236                  F        4.0      35479               12.0   \n",
       "51237                  F        2.0      99310                9.0   \n",
       "\n",
       "      type of admission severity of illness  visitors with patient    age  \\\n",
       "0             Emergency          1st degree                      2  11-20   \n",
       "1             Emergency          3rd degree                      4  31-40   \n",
       "2                Trauma          2nd degree                      6  71-80   \n",
       "3                Urgent          3rd degree                      2  71-80   \n",
       "4                Trauma          2nd degree                      3  61-70   \n",
       "...                 ...                 ...                    ...    ...   \n",
       "51233            Trauma          1st degree                      2  21-30   \n",
       "51234         Emergency          2nd degree                      2  51-60   \n",
       "51235         Emergency          2nd degree                     10  51-60   \n",
       "51236            Trauma          1st degree                      2  21-30   \n",
       "51237            Trauma          3rd degree                      4  51-60   \n",
       "\n",
       "       admission_deposit                stay  \n",
       "0                 5072.0               21-30  \n",
       "1                 3585.0               21-30  \n",
       "2                 4013.0  More than 100 Days  \n",
       "3                 5160.0               21-30  \n",
       "4                 4099.0               21-30  \n",
       "...                  ...                 ...  \n",
       "51233             5105.0               11-20  \n",
       "51234             4051.0               21-30  \n",
       "51235             3677.0  More than 100 Days  \n",
       "51236             4470.0               21-30  \n",
       "51237             4133.0               31-40  \n",
       "\n",
       "[51238 rows x 19 columns]"
      ]
     },
     "execution_count": 150,
     "metadata": {},
     "output_type": "execute_result"
    }
   ],
   "source": [
    "hc.rename(columns=str.lower)"
   ]
  },
  {
   "cell_type": "code",
   "execution_count": 157,
   "id": "84329d5a-c5cc-4255-9fc0-c5ac9be21c0a",
   "metadata": {},
   "outputs": [
    {
     "data": {
      "text/html": [
       "<div>\n",
       "<style scoped>\n",
       "    .dataframe tbody tr th:only-of-type {\n",
       "        vertical-align: middle;\n",
       "    }\n",
       "\n",
       "    .dataframe tbody tr th {\n",
       "        vertical-align: top;\n",
       "    }\n",
       "\n",
       "    .dataframe thead th {\n",
       "        text-align: right;\n",
       "    }\n",
       "</style>\n",
       "<table border=\"1\" class=\"dataframe\">\n",
       "  <thead>\n",
       "    <tr style=\"text-align: right;\">\n",
       "      <th></th>\n",
       "      <th>unnamed: 0</th>\n",
       "      <th>ID</th>\n",
       "      <th>hospital_code</th>\n",
       "      <th>hospital_type_code</th>\n",
       "      <th>city_code_hospital</th>\n",
       "      <th>hospital_region_code</th>\n",
       "      <th>available extra rooms in hospital</th>\n",
       "      <th>department</th>\n",
       "      <th>ward_type</th>\n",
       "      <th>ward_facility_code</th>\n",
       "      <th>bed grade</th>\n",
       "      <th>patientid</th>\n",
       "      <th>city_code_patient</th>\n",
       "      <th>type of admission</th>\n",
       "      <th>Severity</th>\n",
       "      <th>visitors with patient</th>\n",
       "      <th>age</th>\n",
       "      <th>admission_deposit</th>\n",
       "      <th>stay</th>\n",
       "    </tr>\n",
       "  </thead>\n",
       "  <tbody>\n",
       "    <tr>\n",
       "      <th>0</th>\n",
       "      <td>119967</td>\n",
       "      <td>119968</td>\n",
       "      <td>27</td>\n",
       "      <td>a</td>\n",
       "      <td>7</td>\n",
       "      <td>Y</td>\n",
       "      <td>3</td>\n",
       "      <td>GYNECOLOGY</td>\n",
       "      <td>R</td>\n",
       "      <td>C</td>\n",
       "      <td>2.0</td>\n",
       "      <td>11389</td>\n",
       "      <td>8.0</td>\n",
       "      <td>Emergency</td>\n",
       "      <td>1st degree</td>\n",
       "      <td>2</td>\n",
       "      <td>11-20</td>\n",
       "      <td>5072.0</td>\n",
       "      <td>21-30</td>\n",
       "    </tr>\n",
       "    <tr>\n",
       "      <th>1</th>\n",
       "      <td>92433</td>\n",
       "      <td>92434</td>\n",
       "      <td>6</td>\n",
       "      <td>a</td>\n",
       "      <td>6</td>\n",
       "      <td>X</td>\n",
       "      <td>4</td>\n",
       "      <td>GYNECOLOGY</td>\n",
       "      <td>Q</td>\n",
       "      <td>F</td>\n",
       "      <td>1.0</td>\n",
       "      <td>12522</td>\n",
       "      <td>2.0</td>\n",
       "      <td>Emergency</td>\n",
       "      <td>3rd degree</td>\n",
       "      <td>4</td>\n",
       "      <td>31-40</td>\n",
       "      <td>3585.0</td>\n",
       "      <td>21-30</td>\n",
       "    </tr>\n",
       "    <tr>\n",
       "      <th>2</th>\n",
       "      <td>132258</td>\n",
       "      <td>132259</td>\n",
       "      <td>16</td>\n",
       "      <td>c</td>\n",
       "      <td>3</td>\n",
       "      <td>Z</td>\n",
       "      <td>4</td>\n",
       "      <td>GYNECOLOGY</td>\n",
       "      <td>S</td>\n",
       "      <td>A</td>\n",
       "      <td>3.0</td>\n",
       "      <td>119556</td>\n",
       "      <td>8.0</td>\n",
       "      <td>Trauma</td>\n",
       "      <td>2nd degree</td>\n",
       "      <td>6</td>\n",
       "      <td>71-80</td>\n",
       "      <td>4013.0</td>\n",
       "      <td>More than 100 Days</td>\n",
       "    </tr>\n",
       "    <tr>\n",
       "      <th>3</th>\n",
       "      <td>168439</td>\n",
       "      <td>168440</td>\n",
       "      <td>23</td>\n",
       "      <td>a</td>\n",
       "      <td>6</td>\n",
       "      <td>X</td>\n",
       "      <td>2</td>\n",
       "      <td>ANESTHESIA</td>\n",
       "      <td>S</td>\n",
       "      <td>F</td>\n",
       "      <td>3.0</td>\n",
       "      <td>107177</td>\n",
       "      <td>8.0</td>\n",
       "      <td>Urgent</td>\n",
       "      <td>3rd degree</td>\n",
       "      <td>2</td>\n",
       "      <td>71-80</td>\n",
       "      <td>5160.0</td>\n",
       "      <td>21-30</td>\n",
       "    </tr>\n",
       "    <tr>\n",
       "      <th>4</th>\n",
       "      <td>82100</td>\n",
       "      <td>82101</td>\n",
       "      <td>25</td>\n",
       "      <td>e</td>\n",
       "      <td>1</td>\n",
       "      <td>X</td>\n",
       "      <td>3</td>\n",
       "      <td>GYNECOLOGY</td>\n",
       "      <td>R</td>\n",
       "      <td>E</td>\n",
       "      <td>3.0</td>\n",
       "      <td>64508</td>\n",
       "      <td>13.0</td>\n",
       "      <td>Trauma</td>\n",
       "      <td>2nd degree</td>\n",
       "      <td>3</td>\n",
       "      <td>61-70</td>\n",
       "      <td>4099.0</td>\n",
       "      <td>21-30</td>\n",
       "    </tr>\n",
       "    <tr>\n",
       "      <th>...</th>\n",
       "      <td>...</td>\n",
       "      <td>...</td>\n",
       "      <td>...</td>\n",
       "      <td>...</td>\n",
       "      <td>...</td>\n",
       "      <td>...</td>\n",
       "      <td>...</td>\n",
       "      <td>...</td>\n",
       "      <td>...</td>\n",
       "      <td>...</td>\n",
       "      <td>...</td>\n",
       "      <td>...</td>\n",
       "      <td>...</td>\n",
       "      <td>...</td>\n",
       "      <td>...</td>\n",
       "      <td>...</td>\n",
       "      <td>...</td>\n",
       "      <td>...</td>\n",
       "      <td>...</td>\n",
       "    </tr>\n",
       "    <tr>\n",
       "      <th>51233</th>\n",
       "      <td>289419</td>\n",
       "      <td>289420</td>\n",
       "      <td>10</td>\n",
       "      <td>e</td>\n",
       "      <td>1</td>\n",
       "      <td>X</td>\n",
       "      <td>3</td>\n",
       "      <td>GYNECOLOGY</td>\n",
       "      <td>Q</td>\n",
       "      <td>E</td>\n",
       "      <td>4.0</td>\n",
       "      <td>84995</td>\n",
       "      <td>8.0</td>\n",
       "      <td>Trauma</td>\n",
       "      <td>1st degree</td>\n",
       "      <td>2</td>\n",
       "      <td>21-30</td>\n",
       "      <td>5105.0</td>\n",
       "      <td>11-20</td>\n",
       "    </tr>\n",
       "    <tr>\n",
       "      <th>51234</th>\n",
       "      <td>285283</td>\n",
       "      <td>285284</td>\n",
       "      <td>11</td>\n",
       "      <td>b</td>\n",
       "      <td>2</td>\n",
       "      <td>Y</td>\n",
       "      <td>4</td>\n",
       "      <td>GYNECOLOGY</td>\n",
       "      <td>Q</td>\n",
       "      <td>D</td>\n",
       "      <td>2.0</td>\n",
       "      <td>27052</td>\n",
       "      <td>8.0</td>\n",
       "      <td>Emergency</td>\n",
       "      <td>2nd degree</td>\n",
       "      <td>2</td>\n",
       "      <td>51-60</td>\n",
       "      <td>4051.0</td>\n",
       "      <td>21-30</td>\n",
       "    </tr>\n",
       "    <tr>\n",
       "      <th>51235</th>\n",
       "      <td>79117</td>\n",
       "      <td>79118</td>\n",
       "      <td>9</td>\n",
       "      <td>d</td>\n",
       "      <td>5</td>\n",
       "      <td>Z</td>\n",
       "      <td>3</td>\n",
       "      <td>GYNECOLOGY</td>\n",
       "      <td>S</td>\n",
       "      <td>F</td>\n",
       "      <td>3.0</td>\n",
       "      <td>109756</td>\n",
       "      <td>5.0</td>\n",
       "      <td>Emergency</td>\n",
       "      <td>2nd degree</td>\n",
       "      <td>10</td>\n",
       "      <td>51-60</td>\n",
       "      <td>3677.0</td>\n",
       "      <td>More than 100 Days</td>\n",
       "    </tr>\n",
       "    <tr>\n",
       "      <th>51236</th>\n",
       "      <td>128901</td>\n",
       "      <td>128902</td>\n",
       "      <td>23</td>\n",
       "      <td>a</td>\n",
       "      <td>6</td>\n",
       "      <td>X</td>\n",
       "      <td>4</td>\n",
       "      <td>GYNECOLOGY</td>\n",
       "      <td>R</td>\n",
       "      <td>F</td>\n",
       "      <td>4.0</td>\n",
       "      <td>35479</td>\n",
       "      <td>12.0</td>\n",
       "      <td>Trauma</td>\n",
       "      <td>1st degree</td>\n",
       "      <td>2</td>\n",
       "      <td>21-30</td>\n",
       "      <td>4470.0</td>\n",
       "      <td>21-30</td>\n",
       "    </tr>\n",
       "    <tr>\n",
       "      <th>51237</th>\n",
       "      <td>210970</td>\n",
       "      <td>210971</td>\n",
       "      <td>2</td>\n",
       "      <td>c</td>\n",
       "      <td>5</td>\n",
       "      <td>Z</td>\n",
       "      <td>2</td>\n",
       "      <td>TB &amp; CHEST DISEASE</td>\n",
       "      <td>S</td>\n",
       "      <td>F</td>\n",
       "      <td>2.0</td>\n",
       "      <td>99310</td>\n",
       "      <td>9.0</td>\n",
       "      <td>Trauma</td>\n",
       "      <td>3rd degree</td>\n",
       "      <td>4</td>\n",
       "      <td>51-60</td>\n",
       "      <td>4133.0</td>\n",
       "      <td>31-40</td>\n",
       "    </tr>\n",
       "  </tbody>\n",
       "</table>\n",
       "<p>51238 rows × 19 columns</p>\n",
       "</div>"
      ],
      "text/plain": [
       "       unnamed: 0      ID  hospital_code hospital_type_code  \\\n",
       "0          119967  119968             27                  a   \n",
       "1           92433   92434              6                  a   \n",
       "2          132258  132259             16                  c   \n",
       "3          168439  168440             23                  a   \n",
       "4           82100   82101             25                  e   \n",
       "...           ...     ...            ...                ...   \n",
       "51233      289419  289420             10                  e   \n",
       "51234      285283  285284             11                  b   \n",
       "51235       79117   79118              9                  d   \n",
       "51236      128901  128902             23                  a   \n",
       "51237      210970  210971              2                  c   \n",
       "\n",
       "       city_code_hospital hospital_region_code  \\\n",
       "0                       7                    Y   \n",
       "1                       6                    X   \n",
       "2                       3                    Z   \n",
       "3                       6                    X   \n",
       "4                       1                    X   \n",
       "...                   ...                  ...   \n",
       "51233                   1                    X   \n",
       "51234                   2                    Y   \n",
       "51235                   5                    Z   \n",
       "51236                   6                    X   \n",
       "51237                   5                    Z   \n",
       "\n",
       "       available extra rooms in hospital          department ward_type  \\\n",
       "0                                      3          GYNECOLOGY         R   \n",
       "1                                      4          GYNECOLOGY         Q   \n",
       "2                                      4          GYNECOLOGY         S   \n",
       "3                                      2          ANESTHESIA         S   \n",
       "4                                      3          GYNECOLOGY         R   \n",
       "...                                  ...                 ...       ...   \n",
       "51233                                  3          GYNECOLOGY         Q   \n",
       "51234                                  4          GYNECOLOGY         Q   \n",
       "51235                                  3          GYNECOLOGY         S   \n",
       "51236                                  4          GYNECOLOGY         R   \n",
       "51237                                  2  TB & CHEST DISEASE         S   \n",
       "\n",
       "      ward_facility_code  bed grade  patientid  city_code_patient  \\\n",
       "0                      C        2.0      11389                8.0   \n",
       "1                      F        1.0      12522                2.0   \n",
       "2                      A        3.0     119556                8.0   \n",
       "3                      F        3.0     107177                8.0   \n",
       "4                      E        3.0      64508               13.0   \n",
       "...                  ...        ...        ...                ...   \n",
       "51233                  E        4.0      84995                8.0   \n",
       "51234                  D        2.0      27052                8.0   \n",
       "51235                  F        3.0     109756                5.0   \n",
       "51236                  F        4.0      35479               12.0   \n",
       "51237                  F        2.0      99310                9.0   \n",
       "\n",
       "      type of admission    Severity  visitors with patient    age  \\\n",
       "0             Emergency  1st degree                      2  11-20   \n",
       "1             Emergency  3rd degree                      4  31-40   \n",
       "2                Trauma  2nd degree                      6  71-80   \n",
       "3                Urgent  3rd degree                      2  71-80   \n",
       "4                Trauma  2nd degree                      3  61-70   \n",
       "...                 ...         ...                    ...    ...   \n",
       "51233            Trauma  1st degree                      2  21-30   \n",
       "51234         Emergency  2nd degree                      2  51-60   \n",
       "51235         Emergency  2nd degree                     10  51-60   \n",
       "51236            Trauma  1st degree                      2  21-30   \n",
       "51237            Trauma  3rd degree                      4  51-60   \n",
       "\n",
       "       admission_deposit                stay  \n",
       "0                 5072.0               21-30  \n",
       "1                 3585.0               21-30  \n",
       "2                 4013.0  More than 100 Days  \n",
       "3                 5160.0               21-30  \n",
       "4                 4099.0               21-30  \n",
       "...                  ...                 ...  \n",
       "51233             5105.0               11-20  \n",
       "51234             4051.0               21-30  \n",
       "51235             3677.0  More than 100 Days  \n",
       "51236             4470.0               21-30  \n",
       "51237             4133.0               31-40  \n",
       "\n",
       "[51238 rows x 19 columns]"
      ]
     },
     "execution_count": 157,
     "metadata": {},
     "output_type": "execute_result"
    }
   ],
   "source": [
    "col_dict = {'severity of illness': 'Severity', 'case_id': 'ID'}\n",
    "hc.rename(columns = (col_dict))"
   ]
  },
  {
   "cell_type": "code",
   "execution_count": 162,
   "id": "43a9e943-ed29-41de-8a83-dd4533f3435f",
   "metadata": {},
   "outputs": [
    {
     "data": {
      "text/plain": [
       "318438"
      ]
     },
     "execution_count": 162,
     "metadata": {},
     "output_type": "execute_result"
    }
   ],
   "source": [
    "hc['case_id'].max()"
   ]
  },
  {
   "cell_type": "code",
   "execution_count": 165,
   "id": "71cff126-7eb7-4ca4-838a-773292d80e4c",
   "metadata": {},
   "outputs": [
    {
     "data": {
      "text/plain": [
       "0        recent case\n",
       "1           old case\n",
       "2        recent case\n",
       "3        recent case\n",
       "4           old case\n",
       "            ...     \n",
       "51233       new case\n",
       "51234       new case\n",
       "51235       old case\n",
       "51236    recent case\n",
       "51237       new case\n",
       "Name: case_id, Length: 51238, dtype: category\n",
       "Categories (3, object): ['old case' < 'recent case' < 'new case']"
      ]
     },
     "execution_count": 165,
     "metadata": {},
     "output_type": "execute_result"
    }
   ],
   "source": [
    "bins = [0, 100001, 200001, np.inf]\n",
    "categories = ['old case', 'recent case', 'new case']\n",
    "binning_case_id= hc['case_id']\n",
    "group = pd.cut(binning_case_id, bins, labels=categories)\n",
    "group"
   ]
  },
  {
   "cell_type": "code",
   "execution_count": 169,
   "id": "4455ba8a-5ca4-4c37-959e-29b21a3b8ec1",
   "metadata": {},
   "outputs": [
    {
     "data": {
      "text/plain": [
       "0        (106146.6667, 212292.3333]\n",
       "1           (-317.437, 106146.6667]\n",
       "2        (106146.6667, 212292.3333]\n",
       "3        (106146.6667, 212292.3333]\n",
       "4           (-317.437, 106146.6667]\n",
       "                    ...            \n",
       "51233       (212292.3333, 318438.0]\n",
       "51234       (212292.3333, 318438.0]\n",
       "51235       (-317.437, 106146.6667]\n",
       "51236    (106146.6667, 212292.3333]\n",
       "51237    (106146.6667, 212292.3333]\n",
       "Name: case_id, Length: 51238, dtype: category\n",
       "Categories (3, interval[float64, right]): [(-317.437, 106146.6667] < (106146.6667, 212292.3333] < (212292.3333, 318438.0]]"
      ]
     },
     "execution_count": 169,
     "metadata": {},
     "output_type": "execute_result"
    }
   ],
   "source": [
    "group_equ = pd.cut(binning_case_id, 3, precision=4)\n",
    "group_equ"
   ]
  },
  {
   "cell_type": "code",
   "execution_count": 170,
   "id": "6126498a-07f9-4e4f-8312-bcffe76e805b",
   "metadata": {},
   "outputs": [
    {
     "data": {
      "text/plain": [
       "0        (106907.0, 212651.0]\n",
       "1            (0.99, 106907.0]\n",
       "2        (106907.0, 212651.0]\n",
       "3        (106907.0, 212651.0]\n",
       "4            (0.99, 106907.0]\n",
       "                 ...         \n",
       "51233    (212651.0, 318438.0]\n",
       "51234    (212651.0, 318438.0]\n",
       "51235        (0.99, 106907.0]\n",
       "51236    (106907.0, 212651.0]\n",
       "51237    (106907.0, 212651.0]\n",
       "Name: case_id, Length: 51238, dtype: category\n",
       "Categories (3, interval[float64, right]): [(0.99, 106907.0] < (106907.0, 212651.0] < (212651.0, 318438.0]]"
      ]
     },
     "execution_count": 170,
     "metadata": {},
     "output_type": "execute_result"
    }
   ],
   "source": [
    "group_qua = pd.qcut(binning_case_id, 3, precision=2)\n",
    "group_qua"
   ]
  },
  {
   "cell_type": "code",
   "execution_count": 172,
   "id": "4d52f7e1-2b5e-49eb-bc1c-9f6b7baa746e",
   "metadata": {},
   "outputs": [
    {
     "data": {
      "text/html": [
       "<div>\n",
       "<style scoped>\n",
       "    .dataframe tbody tr th:only-of-type {\n",
       "        vertical-align: middle;\n",
       "    }\n",
       "\n",
       "    .dataframe tbody tr th {\n",
       "        vertical-align: top;\n",
       "    }\n",
       "\n",
       "    .dataframe thead th {\n",
       "        text-align: right;\n",
       "    }\n",
       "</style>\n",
       "<table border=\"1\" class=\"dataframe\">\n",
       "  <thead>\n",
       "    <tr style=\"text-align: right;\">\n",
       "      <th></th>\n",
       "      <th>unnamed: 0</th>\n",
       "      <th>case_id</th>\n",
       "      <th>hospital_code</th>\n",
       "      <th>hospital_type_code</th>\n",
       "      <th>city_code_hospital</th>\n",
       "      <th>hospital_region_code</th>\n",
       "      <th>available extra rooms in hospital</th>\n",
       "      <th>department</th>\n",
       "      <th>ward_type</th>\n",
       "      <th>ward_facility_code</th>\n",
       "      <th>bed grade</th>\n",
       "      <th>patientid</th>\n",
       "      <th>city_code_patient</th>\n",
       "      <th>type of admission</th>\n",
       "      <th>severity of illness</th>\n",
       "      <th>visitors with patient</th>\n",
       "      <th>age</th>\n",
       "      <th>admission_deposit</th>\n",
       "      <th>stay</th>\n",
       "    </tr>\n",
       "  </thead>\n",
       "  <tbody>\n",
       "    <tr>\n",
       "      <th>42924</th>\n",
       "      <td>210287</td>\n",
       "      <td>210288</td>\n",
       "      <td>6</td>\n",
       "      <td>a</td>\n",
       "      <td>6</td>\n",
       "      <td>X</td>\n",
       "      <td>3</td>\n",
       "      <td>GYNECOLOGY</td>\n",
       "      <td>R</td>\n",
       "      <td>F</td>\n",
       "      <td>2.0</td>\n",
       "      <td>77636</td>\n",
       "      <td>4.0</td>\n",
       "      <td>Trauma</td>\n",
       "      <td>2nd degree</td>\n",
       "      <td>3</td>\n",
       "      <td>51-60</td>\n",
       "      <td>5419.0</td>\n",
       "      <td>0-10</td>\n",
       "    </tr>\n",
       "    <tr>\n",
       "      <th>20061</th>\n",
       "      <td>132155</td>\n",
       "      <td>132156</td>\n",
       "      <td>10</td>\n",
       "      <td>e</td>\n",
       "      <td>1</td>\n",
       "      <td>X</td>\n",
       "      <td>3</td>\n",
       "      <td>GYNECOLOGY</td>\n",
       "      <td>R</td>\n",
       "      <td>E</td>\n",
       "      <td>2.0</td>\n",
       "      <td>75814</td>\n",
       "      <td>5.0</td>\n",
       "      <td>Trauma</td>\n",
       "      <td>2nd degree</td>\n",
       "      <td>2</td>\n",
       "      <td>31-40</td>\n",
       "      <td>4948.0</td>\n",
       "      <td>41-50</td>\n",
       "    </tr>\n",
       "    <tr>\n",
       "      <th>14335</th>\n",
       "      <td>239680</td>\n",
       "      <td>239681</td>\n",
       "      <td>26</td>\n",
       "      <td>b</td>\n",
       "      <td>2</td>\n",
       "      <td>Y</td>\n",
       "      <td>4</td>\n",
       "      <td>GYNECOLOGY</td>\n",
       "      <td>R</td>\n",
       "      <td>D</td>\n",
       "      <td>2.0</td>\n",
       "      <td>23364</td>\n",
       "      <td>4.0</td>\n",
       "      <td>Trauma</td>\n",
       "      <td>2nd degree</td>\n",
       "      <td>2</td>\n",
       "      <td>41-50</td>\n",
       "      <td>4883.0</td>\n",
       "      <td>41-50</td>\n",
       "    </tr>\n",
       "    <tr>\n",
       "      <th>29737</th>\n",
       "      <td>7277</td>\n",
       "      <td>7278</td>\n",
       "      <td>19</td>\n",
       "      <td>a</td>\n",
       "      <td>7</td>\n",
       "      <td>Y</td>\n",
       "      <td>3</td>\n",
       "      <td>GYNECOLOGY</td>\n",
       "      <td>S</td>\n",
       "      <td>C</td>\n",
       "      <td>3.0</td>\n",
       "      <td>38662</td>\n",
       "      <td>8.0</td>\n",
       "      <td>Emergency</td>\n",
       "      <td>1st degree</td>\n",
       "      <td>2</td>\n",
       "      <td>21-30</td>\n",
       "      <td>6686.0</td>\n",
       "      <td>31-40</td>\n",
       "    </tr>\n",
       "    <tr>\n",
       "      <th>5384</th>\n",
       "      <td>16288</td>\n",
       "      <td>16289</td>\n",
       "      <td>29</td>\n",
       "      <td>a</td>\n",
       "      <td>4</td>\n",
       "      <td>X</td>\n",
       "      <td>4</td>\n",
       "      <td>GYNECOLOGY</td>\n",
       "      <td>R</td>\n",
       "      <td>F</td>\n",
       "      <td>4.0</td>\n",
       "      <td>101042</td>\n",
       "      <td>2.0</td>\n",
       "      <td>Trauma</td>\n",
       "      <td>3rd degree</td>\n",
       "      <td>2</td>\n",
       "      <td>61-70</td>\n",
       "      <td>7097.0</td>\n",
       "      <td>31-40</td>\n",
       "    </tr>\n",
       "    <tr>\n",
       "      <th>6377</th>\n",
       "      <td>286862</td>\n",
       "      <td>286863</td>\n",
       "      <td>12</td>\n",
       "      <td>a</td>\n",
       "      <td>9</td>\n",
       "      <td>Y</td>\n",
       "      <td>4</td>\n",
       "      <td>GYNECOLOGY</td>\n",
       "      <td>S</td>\n",
       "      <td>B</td>\n",
       "      <td>3.0</td>\n",
       "      <td>119265</td>\n",
       "      <td>23.0</td>\n",
       "      <td>Trauma</td>\n",
       "      <td>1st degree</td>\n",
       "      <td>2</td>\n",
       "      <td>31-40</td>\n",
       "      <td>4689.0</td>\n",
       "      <td>11-20</td>\n",
       "    </tr>\n",
       "    <tr>\n",
       "      <th>49566</th>\n",
       "      <td>284395</td>\n",
       "      <td>284396</td>\n",
       "      <td>22</td>\n",
       "      <td>g</td>\n",
       "      <td>9</td>\n",
       "      <td>Y</td>\n",
       "      <td>2</td>\n",
       "      <td>GYNECOLOGY</td>\n",
       "      <td>S</td>\n",
       "      <td>B</td>\n",
       "      <td>2.0</td>\n",
       "      <td>21440</td>\n",
       "      <td>11.0</td>\n",
       "      <td>Emergency</td>\n",
       "      <td>2nd degree</td>\n",
       "      <td>4</td>\n",
       "      <td>41-50</td>\n",
       "      <td>3774.0</td>\n",
       "      <td>31-40</td>\n",
       "    </tr>\n",
       "    <tr>\n",
       "      <th>13241</th>\n",
       "      <td>263347</td>\n",
       "      <td>263348</td>\n",
       "      <td>23</td>\n",
       "      <td>a</td>\n",
       "      <td>6</td>\n",
       "      <td>X</td>\n",
       "      <td>1</td>\n",
       "      <td>ANESTHESIA</td>\n",
       "      <td>R</td>\n",
       "      <td>F</td>\n",
       "      <td>3.0</td>\n",
       "      <td>6138</td>\n",
       "      <td>8.0</td>\n",
       "      <td>Trauma</td>\n",
       "      <td>2nd degree</td>\n",
       "      <td>6</td>\n",
       "      <td>41-50</td>\n",
       "      <td>3820.0</td>\n",
       "      <td>51-60</td>\n",
       "    </tr>\n",
       "    <tr>\n",
       "      <th>20711</th>\n",
       "      <td>176964</td>\n",
       "      <td>176965</td>\n",
       "      <td>10</td>\n",
       "      <td>e</td>\n",
       "      <td>1</td>\n",
       "      <td>X</td>\n",
       "      <td>2</td>\n",
       "      <td>GYNECOLOGY</td>\n",
       "      <td>Q</td>\n",
       "      <td>E</td>\n",
       "      <td>3.0</td>\n",
       "      <td>23265</td>\n",
       "      <td>8.0</td>\n",
       "      <td>Trauma</td>\n",
       "      <td>3rd degree</td>\n",
       "      <td>2</td>\n",
       "      <td>71-80</td>\n",
       "      <td>4404.0</td>\n",
       "      <td>21-30</td>\n",
       "    </tr>\n",
       "    <tr>\n",
       "      <th>41173</th>\n",
       "      <td>290667</td>\n",
       "      <td>290668</td>\n",
       "      <td>10</td>\n",
       "      <td>e</td>\n",
       "      <td>1</td>\n",
       "      <td>X</td>\n",
       "      <td>2</td>\n",
       "      <td>TB &amp; CHEST DISEASE</td>\n",
       "      <td>S</td>\n",
       "      <td>E</td>\n",
       "      <td>2.0</td>\n",
       "      <td>111420</td>\n",
       "      <td>20.0</td>\n",
       "      <td>Emergency</td>\n",
       "      <td>3rd degree</td>\n",
       "      <td>2</td>\n",
       "      <td>11-20</td>\n",
       "      <td>2924.0</td>\n",
       "      <td>0-10</td>\n",
       "    </tr>\n",
       "  </tbody>\n",
       "</table>\n",
       "</div>"
      ],
      "text/plain": [
       "       unnamed: 0  case_id  hospital_code hospital_type_code  \\\n",
       "42924      210287   210288              6                  a   \n",
       "20061      132155   132156             10                  e   \n",
       "14335      239680   239681             26                  b   \n",
       "29737        7277     7278             19                  a   \n",
       "5384        16288    16289             29                  a   \n",
       "6377       286862   286863             12                  a   \n",
       "49566      284395   284396             22                  g   \n",
       "13241      263347   263348             23                  a   \n",
       "20711      176964   176965             10                  e   \n",
       "41173      290667   290668             10                  e   \n",
       "\n",
       "       city_code_hospital hospital_region_code  \\\n",
       "42924                   6                    X   \n",
       "20061                   1                    X   \n",
       "14335                   2                    Y   \n",
       "29737                   7                    Y   \n",
       "5384                    4                    X   \n",
       "6377                    9                    Y   \n",
       "49566                   9                    Y   \n",
       "13241                   6                    X   \n",
       "20711                   1                    X   \n",
       "41173                   1                    X   \n",
       "\n",
       "       available extra rooms in hospital          department ward_type  \\\n",
       "42924                                  3          GYNECOLOGY         R   \n",
       "20061                                  3          GYNECOLOGY         R   \n",
       "14335                                  4          GYNECOLOGY         R   \n",
       "29737                                  3          GYNECOLOGY         S   \n",
       "5384                                   4          GYNECOLOGY         R   \n",
       "6377                                   4          GYNECOLOGY         S   \n",
       "49566                                  2          GYNECOLOGY         S   \n",
       "13241                                  1          ANESTHESIA         R   \n",
       "20711                                  2          GYNECOLOGY         Q   \n",
       "41173                                  2  TB & CHEST DISEASE         S   \n",
       "\n",
       "      ward_facility_code  bed grade  patientid  city_code_patient  \\\n",
       "42924                  F        2.0      77636                4.0   \n",
       "20061                  E        2.0      75814                5.0   \n",
       "14335                  D        2.0      23364                4.0   \n",
       "29737                  C        3.0      38662                8.0   \n",
       "5384                   F        4.0     101042                2.0   \n",
       "6377                   B        3.0     119265               23.0   \n",
       "49566                  B        2.0      21440               11.0   \n",
       "13241                  F        3.0       6138                8.0   \n",
       "20711                  E        3.0      23265                8.0   \n",
       "41173                  E        2.0     111420               20.0   \n",
       "\n",
       "      type of admission severity of illness  visitors with patient    age  \\\n",
       "42924            Trauma          2nd degree                      3  51-60   \n",
       "20061            Trauma          2nd degree                      2  31-40   \n",
       "14335            Trauma          2nd degree                      2  41-50   \n",
       "29737         Emergency          1st degree                      2  21-30   \n",
       "5384             Trauma          3rd degree                      2  61-70   \n",
       "6377             Trauma          1st degree                      2  31-40   \n",
       "49566         Emergency          2nd degree                      4  41-50   \n",
       "13241            Trauma          2nd degree                      6  41-50   \n",
       "20711            Trauma          3rd degree                      2  71-80   \n",
       "41173         Emergency          3rd degree                      2  11-20   \n",
       "\n",
       "       admission_deposit   stay  \n",
       "42924             5419.0   0-10  \n",
       "20061             4948.0  41-50  \n",
       "14335             4883.0  41-50  \n",
       "29737             6686.0  31-40  \n",
       "5384              7097.0  31-40  \n",
       "6377              4689.0  11-20  \n",
       "49566             3774.0  31-40  \n",
       "13241             3820.0  51-60  \n",
       "20711             4404.0  21-30  \n",
       "41173             2924.0   0-10  "
      ]
     },
     "execution_count": 172,
     "metadata": {},
     "output_type": "execute_result"
    }
   ],
   "source": [
    "hc.sample(10)"
   ]
  },
  {
   "cell_type": "code",
   "execution_count": 179,
   "id": "ef08e404-6e2a-494d-8b94-81b2254feaea",
   "metadata": {},
   "outputs": [
    {
     "data": {
      "text/plain": [
       "46014    16.0\n",
       "35826     8.0\n",
       "31343     5.0\n",
       "14045     1.0\n",
       "25724    15.0\n",
       "18972     8.0\n",
       "15261    12.0\n",
       "50486     1.0\n",
       "5307      7.0\n",
       "5090      7.0\n",
       "42091     8.0\n",
       "13731     9.0\n",
       "8930      8.0\n",
       "18631     8.0\n",
       "24004     8.0\n",
       "51042    16.0\n",
       "40282     2.0\n",
       "39446     8.0\n",
       "23779     NaN\n",
       "45576    23.0\n",
       "14141     9.0\n",
       "39860     8.0\n",
       "16036     8.0\n",
       "10566     8.0\n",
       "6541      8.0\n",
       "5956      2.0\n",
       "7752     11.0\n",
       "48980     8.0\n",
       "16046     2.0\n",
       "42913     9.0\n",
       "5487      8.0\n",
       "19547     4.0\n",
       "6347      8.0\n",
       "8991      9.0\n",
       "30524    21.0\n",
       "46153     8.0\n",
       "38681     8.0\n",
       "45277     2.0\n",
       "31135     7.0\n",
       "29946     8.0\n",
       "10297     2.0\n",
       "39047     8.0\n",
       "6980      8.0\n",
       "41995     2.0\n",
       "43789     8.0\n",
       "14191    12.0\n",
       "29724    10.0\n",
       "26728     7.0\n",
       "25069     8.0\n",
       "43191     8.0\n",
       "Name: city_code_patient, dtype: float64"
      ]
     },
     "execution_count": 179,
     "metadata": {},
     "output_type": "execute_result"
    }
   ],
   "source": [
    "hc.iloc[:, 12].sample(50, replace=True)"
   ]
  },
  {
   "cell_type": "code",
   "execution_count": null,
   "id": "9097ccb3-4611-4129-bba6-595961bd4514",
   "metadata": {},
   "outputs": [],
   "source": []
  }
 ],
 "metadata": {
  "kernelspec": {
   "display_name": "Python [conda env:base] *",
   "language": "python",
   "name": "conda-base-py"
  },
  "language_info": {
   "codemirror_mode": {
    "name": "ipython",
    "version": 3
   },
   "file_extension": ".py",
   "mimetype": "text/x-python",
   "name": "python",
   "nbconvert_exporter": "python",
   "pygments_lexer": "ipython3",
   "version": "3.12.7"
  }
 },
 "nbformat": 4,
 "nbformat_minor": 5
}
